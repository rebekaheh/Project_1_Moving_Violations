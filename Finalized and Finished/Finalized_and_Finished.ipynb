{
 "cells": [
  {
   "cell_type": "markdown",
   "metadata": {},
   "source": [
    "### Team Members\n",
    "* Sandra Hall, Renier Mendez, Rebekah Hulsey, Fraol Abebe, Gene Strange, Sree Kodali\n",
    "\n",
    "### Description/Outline\n",
    "* “The Path of Least Violations” will include various types of data analysis performed on a large dataset provided by https://opendatadc.gov. The data will include moving violations compiled on both a monthly and yearly basis.  The hypotheses are that the visualizations will demonstrate correlations based on age of the violators, the possibility of a policing/ticket “quota”, density of traffic stops by area (x,y coordinates), and detection of seasonality trends in traffic stops such as during tourism peaks in the District of Columbia. \n",
    "\n",
    "### Research Questions\n",
    "* 1. Which issuing agency issues the most violations?\n",
    "* 2. Are more violations issued in a particular quadrant of the city?\n",
    "* 3. Is there a correlation between the number of violations issued and:\n",
    "* a.\tThe month of the year\n",
    "* b.\tThe day of the week\n",
    "* 4.\tTotal number of violations issued\n",
    "* a.\tPer month\n",
    "* b.\tFor the year\n",
    "* 5.\tTotal number of each violation issued\n",
    "* a.\tPer month\n",
    "* b.\tFor the year\n",
    "* 6.\tTotal amount generated from issuing violations (not paid, just issued)\n",
    "* a.\tPer month\n",
    "* b.\tFor the year\n",
    "* 7.\tThe total number of violations issued to\n",
    "* a.\tDC licensed drivers\n",
    "* b.\tMD licensed drivers\n",
    "* c.\tVA licensed drivers\n",
    "* 8.\tThe breakdown of violation type among\n",
    "* a.\tDC licensed drivers\n",
    "* b.\tMD licensed drivers\n",
    "* c.\tVA licensed drivers\n",
    "\n",
    "### Datasets\n",
    "* The data we will be using is found at https://opendatadc.gov. The datasets are titled as follows:\n",
    "* 1.\tMoving Violations Issued in January 2019\n",
    "* 2.\tMoving Violations Issued in March 2019\n",
    "* 3.\tMoving Violations Issued in April 2019\n",
    "* 4.\tMoving Violations Issued in May 2019\n",
    "* 5.\tMoving Violations Issued in June 2019\n",
    "* 6.\tMoving Violations Issued in July 2019\n",
    "* 7.\tMoving Violations Issued in August 2019\n",
    "* 8.\tMoving Violations Issued in September 2019\n",
    "* 9.\tMoving Violations Issued in October 2019\n",
    "* 10.\tMoving Violations Issued in November 2019\n",
    "* 11.\tMoving Violations Issued in December 2019\n",
    "\n",
    "### Breakdown of Tasks\n",
    "* Sandra Hall:  Project Manager/Coder\n",
    "* Renier Mendez:  Presenter/Coder\n",
    "* Rebekah H: Data Visualization/Coder\n",
    "* Fraol Abebe: Data Visualization/Data Cleansing/Coder\n",
    "* Gene Strange: Coder\n",
    "* Sree: Coder\n",
    "\n",
    "### Important Notes\n",
    "* February data was completely missing\n",
    "* While the website showed 'Issue Time' in AM/PM format, both the CSV files and JSON files did not include such formatting. We did attempt to change the formatting in Excel, hoping that the AM/PM was somehow hard coded into the data, but the result changed the time entries into exclusively AM or exclusively PM. So, we had to abandon the hope of reporting on violations issued based on time of day\n",
    "* Rebekah read in the site's CSV files, and her starter code was used by Gene, Sree, Sandra, and Fraol to answer their respective questions. Renier chose to web scrape to answer his questions, and every effort was made to marry his code with Rebekah's. In the end, the group chose to submit two URLs.\n",
    "* Had we more time, we would have more thouroughly investigated each question:\n",
    "    * we would have loved to dive deeper into the agencies responsible for issueing the most violations. Four of the top five agencies were Metro Police districts. It would have been valuable to determine the area of their districts, and provide a more detailed map of their respective areas (including street names, land marks, surrounding state borders...and any other information, that would help someone not familiar with DC orient themselves)\n",
    "    * the size of the maps of DC (from Tableau) would have have included a blown-up version, showing the streetnames, to better show exactly what areas were being referenced\n",
    "    * we would have included a decade's worth of data to truly represent any trends\n",
    "    * we would have dug deeper into the days of the week. Since our data suggested the summer months were the busiest, we could have determined if there were specific holidays (4th of July, Memorial Day, Labor Day, etc.) which influenced the findings. \n",
    "    * we would have looked into each state more intensely: \n",
    "        * Supposing that MD and VA drivers are entering DC from different routes, do those drivers receive violations closer to their home state?\n",
    "        * We could have created maps to show where DC, VA, and MD drivers were most commonly recieving their violations"
   ]
  },
  {
   "cell_type": "markdown",
   "metadata": {},
   "source": [
    "# Import Dependencies"
   ]
  },
  {
   "cell_type": "code",
   "execution_count": 1,
   "metadata": {},
   "outputs": [],
   "source": [
    "import pandas as pd\n",
    "import glob\n",
    "import numpy as np\n",
    "import matplotlib.pyplot as plt\n",
    "from scipy.stats import sem\n",
    "import datetime"
   ]
  },
  {
   "cell_type": "markdown",
   "metadata": {},
   "source": [
    "# Input a path to my folder which contains the CSVs"
   ]
  },
  {
   "cell_type": "code",
   "execution_count": 2,
   "metadata": {},
   "outputs": [],
   "source": [
    "path = (r\"C:\\Users\\RebekahDSK\\Desktop\\Project_1_Moving_Violations\\CSVs\")\n",
    "CSVFiles = glob.glob(path + \"/*.csv\") # to retrieve the files"
   ]
  },
  {
   "cell_type": "code",
   "execution_count": 3,
   "metadata": {},
   "outputs": [
    {
     "data": {
      "text/plain": [
       "['C:\\\\Users\\\\RebekahDSK\\\\Desktop\\\\Project_1_Moving_Violations\\\\CSVs\\\\Moving_Violations_Issued_in_April_2019 (1).csv',\n",
       " 'C:\\\\Users\\\\RebekahDSK\\\\Desktop\\\\Project_1_Moving_Violations\\\\CSVs\\\\Moving_Violations_Issued_in_August_2019 (1).csv',\n",
       " 'C:\\\\Users\\\\RebekahDSK\\\\Desktop\\\\Project_1_Moving_Violations\\\\CSVs\\\\Moving_Violations_Issued_in_December_2019 (2).csv',\n",
       " 'C:\\\\Users\\\\RebekahDSK\\\\Desktop\\\\Project_1_Moving_Violations\\\\CSVs\\\\Moving_Violations_Issued_in_January_2019 (1).csv',\n",
       " 'C:\\\\Users\\\\RebekahDSK\\\\Desktop\\\\Project_1_Moving_Violations\\\\CSVs\\\\Moving_Violations_Issued_in_July_2020.csv',\n",
       " 'C:\\\\Users\\\\RebekahDSK\\\\Desktop\\\\Project_1_Moving_Violations\\\\CSVs\\\\Moving_Violations_Issued_in_June_2019 (1).csv',\n",
       " 'C:\\\\Users\\\\RebekahDSK\\\\Desktop\\\\Project_1_Moving_Violations\\\\CSVs\\\\Moving_Violations_Issued_in_March_2019 (1).csv',\n",
       " 'C:\\\\Users\\\\RebekahDSK\\\\Desktop\\\\Project_1_Moving_Violations\\\\CSVs\\\\Moving_Violations_Issued_in_May_2019 (1).csv',\n",
       " 'C:\\\\Users\\\\RebekahDSK\\\\Desktop\\\\Project_1_Moving_Violations\\\\CSVs\\\\Moving_Violations_Issued_in_November_2019 (1).csv',\n",
       " 'C:\\\\Users\\\\RebekahDSK\\\\Desktop\\\\Project_1_Moving_Violations\\\\CSVs\\\\Moving_Violations_Issued_in_October_2019 (4).csv',\n",
       " 'C:\\\\Users\\\\RebekahDSK\\\\Desktop\\\\Project_1_Moving_Violations\\\\CSVs\\\\Moving_Violations_Issued_in_September_2019 (1).csv']"
      ]
     },
     "execution_count": 3,
     "metadata": {},
     "output_type": "execute_result"
    }
   ],
   "source": [
    "CSVFiles"
   ]
  },
  {
   "cell_type": "markdown",
   "metadata": {},
   "source": [
    "# Create a list to hold data from all 2019 CSV files"
   ]
  },
  {
   "cell_type": "code",
   "execution_count": 4,
   "metadata": {},
   "outputs": [],
   "source": [
    "list_data = []"
   ]
  },
  {
   "cell_type": "markdown",
   "metadata": {},
   "source": [
    "# Create a loop which adds each CSV file in the 'Path' folder into the 'list_data' list"
   ]
  },
  {
   "cell_type": "code",
   "execution_count": 5,
   "metadata": {},
   "outputs": [],
   "source": [
    "for filename in CSVFiles:\n",
    "    df = pd.read_csv(filename, index_col=None, header=0, low_memory=False)\n",
    "    list_data.append(df)"
   ]
  },
  {
   "cell_type": "markdown",
   "metadata": {},
   "source": [
    "### Create a DataFrame that contains all 11 CSV files\n",
    "* The DataFrame contains one file for every available month of 2019\n",
    "* Print a preview of the DataFrame"
   ]
  },
  {
   "cell_type": "code",
   "execution_count": 6,
   "metadata": {},
   "outputs": [
    {
     "data": {
      "text/html": [
       "<div>\n",
       "<style scoped>\n",
       "    .dataframe tbody tr th:only-of-type {\n",
       "        vertical-align: middle;\n",
       "    }\n",
       "\n",
       "    .dataframe tbody tr th {\n",
       "        vertical-align: top;\n",
       "    }\n",
       "\n",
       "    .dataframe thead th {\n",
       "        text-align: right;\n",
       "    }\n",
       "</style>\n",
       "<table border=\"1\" class=\"dataframe\">\n",
       "  <thead>\n",
       "    <tr style=\"text-align: right;\">\n",
       "      <th></th>\n",
       "      <th>OBJECTID</th>\n",
       "      <th>LOCATION</th>\n",
       "      <th>XCOORD</th>\n",
       "      <th>YCOORD</th>\n",
       "      <th>ISSUE_DATE</th>\n",
       "      <th>ISSUE_TIME</th>\n",
       "      <th>ISSUING_AGENCY_CODE</th>\n",
       "      <th>ISSUING_AGENCY_NAME</th>\n",
       "      <th>ISSUING_AGENCY_SHORT</th>\n",
       "      <th>VIOLATION_CODE</th>\n",
       "      <th>...</th>\n",
       "      <th>RP_MULT_OWNER_NO</th>\n",
       "      <th>BODY_STYLE</th>\n",
       "      <th>LATITUDE</th>\n",
       "      <th>LONGITUDE</th>\n",
       "      <th>MAR_ID</th>\n",
       "      <th>GIS_LAST_MOD_DTTM</th>\n",
       "      <th>DRV_LIC_STATE</th>\n",
       "      <th>DOB_YEAR</th>\n",
       "      <th>VEH_YEAR</th>\n",
       "      <th>VEH_MAKE</th>\n",
       "    </tr>\n",
       "  </thead>\n",
       "  <tbody>\n",
       "    <tr>\n",
       "      <th>0</th>\n",
       "      <td>8730</td>\n",
       "      <td>1400 BRANCH AVE SE</td>\n",
       "      <td>403440.57</td>\n",
       "      <td>133762.28</td>\n",
       "      <td>2019/04/29 04:00:00+00</td>\n",
       "      <td>1:30:00</td>\n",
       "      <td>6</td>\n",
       "      <td>METROPOLITAN POLICE DPT-DISTRICT 6</td>\n",
       "      <td>MPD-6D</td>\n",
       "      <td>T043</td>\n",
       "      <td>...</td>\n",
       "      <td>NaN</td>\n",
       "      <td>NaN</td>\n",
       "      <td>38.872</td>\n",
       "      <td>-76.96</td>\n",
       "      <td>307585.0</td>\n",
       "      <td>2020/09/30 03:44:25+00</td>\n",
       "      <td>DC</td>\n",
       "      <td>1985.0</td>\n",
       "      <td>NaN</td>\n",
       "      <td>CHRY</td>\n",
       "    </tr>\n",
       "    <tr>\n",
       "      <th>1</th>\n",
       "      <td>8731</td>\n",
       "      <td>I-295 ANACOSTIA FWY</td>\n",
       "      <td>NaN</td>\n",
       "      <td>NaN</td>\n",
       "      <td>2019/04/01 04:00:00+00</td>\n",
       "      <td>9:55:00</td>\n",
       "      <td>6</td>\n",
       "      <td>METROPOLITAN POLICE DPT-DISTRICT 6</td>\n",
       "      <td>MPD-6D</td>\n",
       "      <td>T043</td>\n",
       "      <td>...</td>\n",
       "      <td>NaN</td>\n",
       "      <td>NaN</td>\n",
       "      <td>NaN</td>\n",
       "      <td>NaN</td>\n",
       "      <td>NaN</td>\n",
       "      <td>2020/09/30 03:44:25+00</td>\n",
       "      <td>DC</td>\n",
       "      <td>1972.0</td>\n",
       "      <td>NaN</td>\n",
       "      <td>HOND</td>\n",
       "    </tr>\n",
       "    <tr>\n",
       "      <th>2</th>\n",
       "      <td>10053</td>\n",
       "      <td>I 395 N/B HOV BRIDGE SW</td>\n",
       "      <td>NaN</td>\n",
       "      <td>NaN</td>\n",
       "      <td>2019/04/18 04:00:00+00</td>\n",
       "      <td>4:20:00</td>\n",
       "      <td>1</td>\n",
       "      <td>METROPOLITAN POLICE DPT-DISTRICT 1</td>\n",
       "      <td>MPD-1D</td>\n",
       "      <td>T335</td>\n",
       "      <td>...</td>\n",
       "      <td>NaN</td>\n",
       "      <td>NaN</td>\n",
       "      <td>NaN</td>\n",
       "      <td>NaN</td>\n",
       "      <td>NaN</td>\n",
       "      <td>2020/09/30 03:44:25+00</td>\n",
       "      <td>VA</td>\n",
       "      <td>1987.0</td>\n",
       "      <td>NaN</td>\n",
       "      <td>MAZD</td>\n",
       "    </tr>\n",
       "    <tr>\n",
       "      <th>3</th>\n",
       "      <td>10054</td>\n",
       "      <td>1000 6TH ST NW</td>\n",
       "      <td>398273.55</td>\n",
       "      <td>137243.91</td>\n",
       "      <td>2019/04/23 04:00:00+00</td>\n",
       "      <td>3:00:00</td>\n",
       "      <td>1</td>\n",
       "      <td>METROPOLITAN POLICE DPT-DISTRICT 1</td>\n",
       "      <td>MPD-1D</td>\n",
       "      <td>T335</td>\n",
       "      <td>...</td>\n",
       "      <td>NaN</td>\n",
       "      <td>NaN</td>\n",
       "      <td>38.903</td>\n",
       "      <td>-77.02</td>\n",
       "      <td>807095.0</td>\n",
       "      <td>2020/09/30 03:44:25+00</td>\n",
       "      <td>DC</td>\n",
       "      <td>1993.0</td>\n",
       "      <td>NaN</td>\n",
       "      <td>TOYO</td>\n",
       "    </tr>\n",
       "    <tr>\n",
       "      <th>4</th>\n",
       "      <td>10055</td>\n",
       "      <td>1000 6TH ST NW</td>\n",
       "      <td>398273.55</td>\n",
       "      <td>137243.91</td>\n",
       "      <td>2019/04/23 04:00:00+00</td>\n",
       "      <td>3:00:00</td>\n",
       "      <td>1</td>\n",
       "      <td>METROPOLITAN POLICE DPT-DISTRICT 1</td>\n",
       "      <td>MPD-1D</td>\n",
       "      <td>T667</td>\n",
       "      <td>...</td>\n",
       "      <td>NaN</td>\n",
       "      <td>NaN</td>\n",
       "      <td>38.903</td>\n",
       "      <td>-77.02</td>\n",
       "      <td>807095.0</td>\n",
       "      <td>2020/09/30 03:44:25+00</td>\n",
       "      <td>DC</td>\n",
       "      <td>1993.0</td>\n",
       "      <td>NaN</td>\n",
       "      <td>TOYO</td>\n",
       "    </tr>\n",
       "  </tbody>\n",
       "</table>\n",
       "<p>5 rows × 33 columns</p>\n",
       "</div>"
      ],
      "text/plain": [
       "   OBJECTID                 LOCATION     XCOORD     YCOORD  \\\n",
       "0      8730       1400 BRANCH AVE SE  403440.57  133762.28   \n",
       "1      8731      I-295 ANACOSTIA FWY        NaN        NaN   \n",
       "2     10053  I 395 N/B HOV BRIDGE SW        NaN        NaN   \n",
       "3     10054           1000 6TH ST NW  398273.55  137243.91   \n",
       "4     10055           1000 6TH ST NW  398273.55  137243.91   \n",
       "\n",
       "               ISSUE_DATE ISSUE_TIME  ISSUING_AGENCY_CODE  \\\n",
       "0  2019/04/29 04:00:00+00    1:30:00                    6   \n",
       "1  2019/04/01 04:00:00+00    9:55:00                    6   \n",
       "2  2019/04/18 04:00:00+00    4:20:00                    1   \n",
       "3  2019/04/23 04:00:00+00    3:00:00                    1   \n",
       "4  2019/04/23 04:00:00+00    3:00:00                    1   \n",
       "\n",
       "                  ISSUING_AGENCY_NAME ISSUING_AGENCY_SHORT VIOLATION_CODE  \\\n",
       "0  METROPOLITAN POLICE DPT-DISTRICT 6               MPD-6D           T043   \n",
       "1  METROPOLITAN POLICE DPT-DISTRICT 6               MPD-6D           T043   \n",
       "2  METROPOLITAN POLICE DPT-DISTRICT 1               MPD-1D           T335   \n",
       "3  METROPOLITAN POLICE DPT-DISTRICT 1               MPD-1D           T335   \n",
       "4  METROPOLITAN POLICE DPT-DISTRICT 1               MPD-1D           T667   \n",
       "\n",
       "   ... RP_MULT_OWNER_NO BODY_STYLE LATITUDE  LONGITUDE    MAR_ID  \\\n",
       "0  ...              NaN        NaN   38.872     -76.96  307585.0   \n",
       "1  ...              NaN        NaN      NaN        NaN       NaN   \n",
       "2  ...              NaN        NaN      NaN        NaN       NaN   \n",
       "3  ...              NaN        NaN   38.903     -77.02  807095.0   \n",
       "4  ...              NaN        NaN   38.903     -77.02  807095.0   \n",
       "\n",
       "        GIS_LAST_MOD_DTTM  DRV_LIC_STATE  DOB_YEAR  VEH_YEAR  VEH_MAKE  \n",
       "0  2020/09/30 03:44:25+00             DC    1985.0       NaN      CHRY  \n",
       "1  2020/09/30 03:44:25+00             DC    1972.0       NaN      HOND  \n",
       "2  2020/09/30 03:44:25+00             VA    1987.0       NaN      MAZD  \n",
       "3  2020/09/30 03:44:25+00             DC    1993.0       NaN      TOYO  \n",
       "4  2020/09/30 03:44:25+00             DC    1993.0       NaN      TOYO  \n",
       "\n",
       "[5 rows x 33 columns]"
      ]
     },
     "execution_count": 6,
     "metadata": {},
     "output_type": "execute_result"
    }
   ],
   "source": [
    "all_data_twozeroonenine_df = pd.concat(list_data, axis=0, ignore_index=True)\n",
    "\n",
    "all_data_twozeroonenine_df.head()"
   ]
  },
  {
   "cell_type": "code",
   "execution_count": 7,
   "metadata": {},
   "outputs": [],
   "source": [
    "all_data_twozeroonenine_df.to_csv(r'C:\\Users\\RebekahDSK\\Desktop\\New folder\\blah.csv')"
   ]
  },
  {
   "cell_type": "code",
   "execution_count": 8,
   "metadata": {},
   "outputs": [
    {
     "data": {
      "text/plain": [
       "1244642"
      ]
     },
     "execution_count": 8,
     "metadata": {},
     "output_type": "execute_result"
    }
   ],
   "source": [
    "len(all_data_twozeroonenine_df)"
   ]
  },
  {
   "cell_type": "markdown",
   "metadata": {},
   "source": [
    "### Let's see what columns we're working with\n",
    "* Print the column headers using .columns\n",
    "* Doing so allows us to see which columns we want to keep, and which we want to drop"
   ]
  },
  {
   "cell_type": "code",
   "execution_count": 9,
   "metadata": {},
   "outputs": [
    {
     "data": {
      "text/plain": [
       "Index(['OBJECTID', 'LOCATION', 'XCOORD', 'YCOORD', 'ISSUE_DATE', 'ISSUE_TIME',\n",
       "       'ISSUING_AGENCY_CODE', 'ISSUING_AGENCY_NAME', 'ISSUING_AGENCY_SHORT',\n",
       "       'VIOLATION_CODE', 'VIOLATION_PROCESS_DESC', 'PLATE_STATE',\n",
       "       'ACCIDENT_INDICATOR', 'DISPOSITION_CODE', 'DISPOSITION_TYPE',\n",
       "       'DISPOSITION_DATE', 'FINE_AMOUNT', 'TOTAL_PAID', 'PENALTY_1',\n",
       "       'PENALTY_2', 'PENALTY_3', 'PENALTY_4', 'PENALTY_5', 'RP_MULT_OWNER_NO',\n",
       "       'BODY_STYLE', 'LATITUDE', 'LONGITUDE', 'MAR_ID', 'GIS_LAST_MOD_DTTM',\n",
       "       'DRV_LIC_STATE', 'DOB_YEAR', 'VEH_YEAR', 'VEH_MAKE'],\n",
       "      dtype='object')"
      ]
     },
     "execution_count": 9,
     "metadata": {},
     "output_type": "execute_result"
    }
   ],
   "source": [
    "all_data_twozeroonenine_df.columns"
   ]
  },
  {
   "cell_type": "markdown",
   "metadata": {},
   "source": [
    "### Clean up the DataFrame to include only the columns we need for analysis\n",
    "* : indicates we want to keep all rows\n",
    "* We determine the columns we want to keep by calling them out by their number\n",
    "* The resulting DataFrame includes all 11 months (February being our caveat)\n",
    "* Contains 1201351 rows\n",
    "* Contains 14 columns"
   ]
  },
  {
   "cell_type": "code",
   "execution_count": 10,
   "metadata": {},
   "outputs": [
    {
     "data": {
      "text/html": [
       "<div>\n",
       "<style scoped>\n",
       "    .dataframe tbody tr th:only-of-type {\n",
       "        vertical-align: middle;\n",
       "    }\n",
       "\n",
       "    .dataframe tbody tr th {\n",
       "        vertical-align: top;\n",
       "    }\n",
       "\n",
       "    .dataframe thead th {\n",
       "        text-align: right;\n",
       "    }\n",
       "</style>\n",
       "<table border=\"1\" class=\"dataframe\">\n",
       "  <thead>\n",
       "    <tr style=\"text-align: right;\">\n",
       "      <th></th>\n",
       "      <th>OBJECTID</th>\n",
       "      <th>LOCATION</th>\n",
       "      <th>ISSUE_DATE</th>\n",
       "      <th>ISSUE_TIME</th>\n",
       "      <th>ISSUING_AGENCY_NAME</th>\n",
       "      <th>ISSUING_AGENCY_SHORT</th>\n",
       "      <th>VIOLATION_CODE</th>\n",
       "      <th>VIOLATION_PROCESS_DESC</th>\n",
       "      <th>PLATE_STATE</th>\n",
       "      <th>ACCIDENT_INDICATOR</th>\n",
       "      <th>FINE_AMOUNT</th>\n",
       "      <th>DRV_LIC_STATE</th>\n",
       "      <th>DOB_YEAR</th>\n",
       "      <th>VEH_MAKE</th>\n",
       "    </tr>\n",
       "  </thead>\n",
       "  <tbody>\n",
       "    <tr>\n",
       "      <th>0</th>\n",
       "      <td>8730</td>\n",
       "      <td>1400 BRANCH AVE SE</td>\n",
       "      <td>2019/04/29 04:00:00+00</td>\n",
       "      <td>1:30:00</td>\n",
       "      <td>METROPOLITAN POLICE DPT-DISTRICT 6</td>\n",
       "      <td>MPD-6D</td>\n",
       "      <td>T043</td>\n",
       "      <td>FOLLOW A VEHICLE TOO CLOSELY</td>\n",
       "      <td>DC</td>\n",
       "      <td>N</td>\n",
       "      <td>100.0</td>\n",
       "      <td>DC</td>\n",
       "      <td>1985.0</td>\n",
       "      <td>CHRY</td>\n",
       "    </tr>\n",
       "    <tr>\n",
       "      <th>1</th>\n",
       "      <td>8731</td>\n",
       "      <td>I-295 ANACOSTIA FWY</td>\n",
       "      <td>2019/04/01 04:00:00+00</td>\n",
       "      <td>9:55:00</td>\n",
       "      <td>METROPOLITAN POLICE DPT-DISTRICT 6</td>\n",
       "      <td>MPD-6D</td>\n",
       "      <td>T043</td>\n",
       "      <td>FOLLOW A VEHICLE TOO CLOSELY</td>\n",
       "      <td>DC</td>\n",
       "      <td>N</td>\n",
       "      <td>75.0</td>\n",
       "      <td>DC</td>\n",
       "      <td>1972.0</td>\n",
       "      <td>HOND</td>\n",
       "    </tr>\n",
       "    <tr>\n",
       "      <th>2</th>\n",
       "      <td>10053</td>\n",
       "      <td>I 395 N/B HOV BRIDGE SW</td>\n",
       "      <td>2019/04/18 04:00:00+00</td>\n",
       "      <td>4:20:00</td>\n",
       "      <td>METROPOLITAN POLICE DPT-DISTRICT 1</td>\n",
       "      <td>MPD-1D</td>\n",
       "      <td>T335</td>\n",
       "      <td>FAIL TO CONTROL VEHICLE SPEED TO AVOID COLLIDING</td>\n",
       "      <td>VA</td>\n",
       "      <td>Y</td>\n",
       "      <td>100.0</td>\n",
       "      <td>VA</td>\n",
       "      <td>1987.0</td>\n",
       "      <td>MAZD</td>\n",
       "    </tr>\n",
       "    <tr>\n",
       "      <th>3</th>\n",
       "      <td>10054</td>\n",
       "      <td>1000 6TH ST NW</td>\n",
       "      <td>2019/04/23 04:00:00+00</td>\n",
       "      <td>3:00:00</td>\n",
       "      <td>METROPOLITAN POLICE DPT-DISTRICT 1</td>\n",
       "      <td>MPD-1D</td>\n",
       "      <td>T335</td>\n",
       "      <td>FAIL TO CONTROL VEHICLE SPEED TO AVOID COLLIDING</td>\n",
       "      <td>DC</td>\n",
       "      <td>Y</td>\n",
       "      <td>150.0</td>\n",
       "      <td>DC</td>\n",
       "      <td>1993.0</td>\n",
       "      <td>TOYO</td>\n",
       "    </tr>\n",
       "    <tr>\n",
       "      <th>4</th>\n",
       "      <td>10055</td>\n",
       "      <td>1000 6TH ST NW</td>\n",
       "      <td>2019/04/23 04:00:00+00</td>\n",
       "      <td>3:00:00</td>\n",
       "      <td>METROPOLITAN POLICE DPT-DISTRICT 1</td>\n",
       "      <td>MPD-1D</td>\n",
       "      <td>T667</td>\n",
       "      <td>DEAD OR EXPIRED TAGS</td>\n",
       "      <td>DC</td>\n",
       "      <td>Y</td>\n",
       "      <td>100.0</td>\n",
       "      <td>DC</td>\n",
       "      <td>1993.0</td>\n",
       "      <td>TOYO</td>\n",
       "    </tr>\n",
       "  </tbody>\n",
       "</table>\n",
       "</div>"
      ],
      "text/plain": [
       "   OBJECTID                 LOCATION              ISSUE_DATE ISSUE_TIME  \\\n",
       "0      8730       1400 BRANCH AVE SE  2019/04/29 04:00:00+00    1:30:00   \n",
       "1      8731      I-295 ANACOSTIA FWY  2019/04/01 04:00:00+00    9:55:00   \n",
       "2     10053  I 395 N/B HOV BRIDGE SW  2019/04/18 04:00:00+00    4:20:00   \n",
       "3     10054           1000 6TH ST NW  2019/04/23 04:00:00+00    3:00:00   \n",
       "4     10055           1000 6TH ST NW  2019/04/23 04:00:00+00    3:00:00   \n",
       "\n",
       "                  ISSUING_AGENCY_NAME ISSUING_AGENCY_SHORT VIOLATION_CODE  \\\n",
       "0  METROPOLITAN POLICE DPT-DISTRICT 6               MPD-6D           T043   \n",
       "1  METROPOLITAN POLICE DPT-DISTRICT 6               MPD-6D           T043   \n",
       "2  METROPOLITAN POLICE DPT-DISTRICT 1               MPD-1D           T335   \n",
       "3  METROPOLITAN POLICE DPT-DISTRICT 1               MPD-1D           T335   \n",
       "4  METROPOLITAN POLICE DPT-DISTRICT 1               MPD-1D           T667   \n",
       "\n",
       "                             VIOLATION_PROCESS_DESC PLATE_STATE  \\\n",
       "0                      FOLLOW A VEHICLE TOO CLOSELY          DC   \n",
       "1                      FOLLOW A VEHICLE TOO CLOSELY          DC   \n",
       "2  FAIL TO CONTROL VEHICLE SPEED TO AVOID COLLIDING          VA   \n",
       "3  FAIL TO CONTROL VEHICLE SPEED TO AVOID COLLIDING          DC   \n",
       "4                              DEAD OR EXPIRED TAGS          DC   \n",
       "\n",
       "  ACCIDENT_INDICATOR  FINE_AMOUNT DRV_LIC_STATE  DOB_YEAR VEH_MAKE  \n",
       "0                  N        100.0            DC    1985.0     CHRY  \n",
       "1                  N         75.0            DC    1972.0     HOND  \n",
       "2                  Y        100.0            VA    1987.0     MAZD  \n",
       "3                  Y        150.0            DC    1993.0     TOYO  \n",
       "4                  Y        100.0            DC    1993.0     TOYO  "
      ]
     },
     "execution_count": 10,
     "metadata": {},
     "output_type": "execute_result"
    }
   ],
   "source": [
    "clean_twozeroonenine_df = all_data_twozeroonenine_df.iloc[:, [0, 1, 4, 5, 7, 8, 9, 10, 11, 12, 16, 29, 30, 32]]\n",
    "clean_twozeroonenine_df.head()"
   ]
  },
  {
   "cell_type": "markdown",
   "metadata": {},
   "source": [
    "# Total number of violations issued for each month and for the year\n",
    "* Determine the total number of violations issued for the year\n",
    "* Using the clean, extracted DataFrame, pull out the Violation Code column\n",
    "* . count() to get a total count of all violations given out for the 2019 year"
   ]
  },
  {
   "cell_type": "code",
   "execution_count": 11,
   "metadata": {},
   "outputs": [
    {
     "data": {
      "text/plain": [
       "1244642"
      ]
     },
     "execution_count": 11,
     "metadata": {},
     "output_type": "execute_result"
    }
   ],
   "source": [
    "total_number_of_violations_year = clean_twozeroonenine_df['VIOLATION_CODE'].count()\n",
    "total_number_of_violations_year"
   ]
  },
  {
   "cell_type": "markdown",
   "metadata": {},
   "source": [
    "### Determine the total number of violations issued Per Month\n",
    "*Read in each month's csv\n",
    "* I read in each month's CSV because it was the clearest way for me to extract the data. I'm sure there was a way to do it from the combined DataFrame, but I honestly didn't want to spend hours doing so."
   ]
  },
  {
   "cell_type": "code",
   "execution_count": 12,
   "metadata": {},
   "outputs": [],
   "source": [
    "# Read in each month's csv\n",
    "january_df = pd.read_csv(r\"C:\\Users\\RebekahDSK\\Desktop\\Project_1_Moving_Violations\\CSVs\\Moving_Violations_Issued_in_January_2019 (1).csv\",low_memory=False)\n",
    "march_df = pd.read_csv(r\"C:\\Users\\RebekahDSK\\Desktop\\Project_1_Moving_Violations\\CSVs\\Moving_Violations_Issued_in_March_2019 (1).csv\", low_memory=False)\n",
    "april_df = pd.read_csv(r\"C:\\Users\\RebekahDSK\\Desktop\\Project_1_Moving_Violations\\CSVs\\Moving_Violations_Issued_in_April_2019 (1).csv\", low_memory=False)\n",
    "may_df = pd.read_csv(r\"C:\\Users\\RebekahDSK\\Desktop\\Project_1_Moving_Violations\\CSVs\\Moving_Violations_Issued_in_May_2019 (1).csv\", low_memory=False)\n",
    "june_df = pd.read_csv(r\"C:\\Users\\RebekahDSK\\Desktop\\Project_1_Moving_Violations\\CSVs\\Moving_Violations_Issued_in_June_2019 (1).csv\", low_memory=False)\n",
    "july_df = pd.read_csv(r\"C:\\Users\\RebekahDSK\\Desktop\\Project_1_Moving_Violations\\CSVs\\Moving_Violations_Issued_in_July_2020.csv\", low_memory=False)\n",
    "august_df = pd.read_csv(r\"C:\\Users\\RebekahDSK\\Desktop\\Project_1_Moving_Violations\\CSVs\\Moving_Violations_Issued_in_August_2019 (1).csv\", low_memory=False)\n",
    "september_df = pd.read_csv(r\"C:\\Users\\RebekahDSK\\Desktop\\Project_1_Moving_Violations\\CSVs\\Moving_Violations_Issued_in_September_2019 (1).csv\", low_memory=False)\n",
    "october_df = pd.read_csv(r\"C:\\Users\\RebekahDSK\\Desktop\\Project_1_Moving_Violations\\CSVs\\Moving_Violations_Issued_in_October_2019 (4).csv\", low_memory=False)\n",
    "november_df = pd.read_csv(r\"C:\\Users\\RebekahDSK\\Desktop\\Project_1_Moving_Violations\\CSVs\\Moving_Violations_Issued_in_November_2019 (1).csv\", low_memory=False)\n",
    "december_df = pd.read_csv(r\"C:\\Users\\RebekahDSK\\Desktop\\Project_1_Moving_Violations\\CSVs\\Moving_Violations_Issued_in_December_2019 (2).csv\", low_memory=False)"
   ]
  },
  {
   "cell_type": "markdown",
   "metadata": {},
   "source": [
    "* Using .count(), I determined the total number of violations issued for each month"
   ]
  },
  {
   "cell_type": "code",
   "execution_count": 61,
   "metadata": {},
   "outputs": [
    {
     "name": "stdout",
     "output_type": "stream",
     "text": [
      "Total violations for January: 94914\n",
      "Total violations for March: 105340\n",
      "Total violations for April: 108258\n",
      "Total violations for May: 110592\n",
      "Total violations for June: 143351\n",
      "Total violations for July: 158123\n",
      "Total violations for August: 149324\n",
      "Total violations for September: 102942\n",
      "Total violations for October: 98173\n",
      "Total violations for November: 94186\n",
      "Total violations for December: 79439\n"
     ]
    }
   ],
   "source": [
    "# Count the total number of violations for each month\n",
    "total_number_violations_january = january_df['VIOLATION_CODE'].count()\n",
    "total_number_violations_march = march_df['VIOLATION_CODE'].count()\n",
    "total_number_violations_april = april_df['VIOLATION_CODE'].count()\n",
    "total_number_violations_may = may_df['VIOLATION_CODE'].count()\n",
    "total_number_violations_june = june_df['VIOLATION_CODE'].count()\n",
    "total_number_violations_july = july_df['VIOLATION_CODE'].count()\n",
    "total_number_violations_august = august_df['VIOLATION_CODE'].count()\n",
    "total_number_violations_september = september_df['VIOLATION_CODE'].count()\n",
    "total_number_violations_october = october_df['VIOLATION_CODE'].count()\n",
    "total_number_violations_november = november_df['VIOLATION_CODE'].count()\n",
    "total_number_violations_december = december_df['VIOLATION_CODE'].count()\n",
    "\n",
    "print(f'Total violations for January: {total_number_violations_january}')\n",
    "print(f'Total violations for March: {total_number_violations_march}')\n",
    "print(f'Total violations for April: {total_number_violations_april}')\n",
    "print(f'Total violations for May: {total_number_violations_may}')\n",
    "print(f'Total violations for June: {total_number_violations_june}')\n",
    "print(f'Total violations for July: {total_number_violations_july}')\n",
    "print(f'Total violations for August: {total_number_violations_august}')\n",
    "print(f'Total violations for September: {total_number_violations_september}')\n",
    "print(f'Total violations for October: {total_number_violations_october}')\n",
    "print(f'Total violations for November: {total_number_violations_november}')\n",
    "print(f'Total violations for December: {total_number_violations_december}')"
   ]
  },
  {
   "cell_type": "markdown",
   "metadata": {},
   "source": [
    "* Next, I determined the percent each month made up of the total yearly violations\n",
    "* (Total Number of Violations for X Month / Total Number of Violations for the Year)(100)"
   ]
  },
  {
   "cell_type": "code",
   "execution_count": 62,
   "metadata": {},
   "outputs": [
    {
     "name": "stdout",
     "output_type": "stream",
     "text": [
      "January %: 7.625807260240294\n",
      "March %: 8.463477851462509\n",
      "April %: 8.697922776187852\n",
      "May %: 8.885446578212852\n",
      "June %: 11.51744839078225\n",
      "July %: 12.704295693058725\n",
      "August %: 11.99734542141435\n",
      "September %: 8.270812008593635\n",
      "October %: 7.887649621336898\n",
      "November %: 7.567316545641237\n",
      "December %: 6.382477853069397\n"
     ]
    }
   ],
   "source": [
    "# Determine what percent each month accounts for of total yearly violations\n",
    "\n",
    "january_percent_to_year_total = (total_number_violations_january / total_number_of_violations_year * 100)\n",
    "march_percent_to_year_total = (total_number_violations_march / total_number_of_violations_year * 100)\n",
    "april_percent_to_year_total = (total_number_violations_april / total_number_of_violations_year * 100)\n",
    "may_percent_to_year_total = (total_number_violations_may / total_number_of_violations_year * 100)\n",
    "june_percent_to_year_total = (total_number_violations_june / total_number_of_violations_year * 100)\n",
    "july_percent_to_year_total = (total_number_violations_july / total_number_of_violations_year * 100)\n",
    "august_percent_to_year_total = (total_number_violations_august / total_number_of_violations_year * 100)\n",
    "september_percent_to_year_total = (total_number_violations_september / total_number_of_violations_year * 100)\n",
    "october_percent_to_year_total = (total_number_violations_october / total_number_of_violations_year * 100)\n",
    "november_percent_to_year_total = (total_number_violations_november / total_number_of_violations_year * 100)\n",
    "december_percent_to_year_total = (total_number_violations_december / total_number_of_violations_year * 100)\n",
    "\n",
    "\n",
    "print(f'January %: {january_percent_to_year_total}')\n",
    "print(f'March %: {march_percent_to_year_total}')\n",
    "print(f'April %: {april_percent_to_year_total}')\n",
    "print(f'May %: {may_percent_to_year_total}')\n",
    "print(f'June %: {june_percent_to_year_total}')\n",
    "print(f'July %: {july_percent_to_year_total}')\n",
    "print(f'August %: {august_percent_to_year_total}')\n",
    "print(f'September %: {september_percent_to_year_total}')\n",
    "print(f'October %: {october_percent_to_year_total}')\n",
    "print(f'November %: {november_percent_to_year_total}')\n",
    "print(f'December %: {december_percent_to_year_total}')"
   ]
  },
  {
   "cell_type": "markdown",
   "metadata": {},
   "source": [
    "* Then I created a DataFrame to hold the total violations for each month, and the percent each month made up of the total yearly violations issued"
   ]
  },
  {
   "cell_type": "code",
   "execution_count": 15,
   "metadata": {},
   "outputs": [],
   "source": [
    "# Create a DataFrame that displays the total violations for each month, and each month's percent to total violations\n",
    "\n",
    "total_number_violations_per_month = pd.DataFrame([{\n",
    "    \"Month\":\"January\", \"Number of Violations\": total_number_violations_january, \"Percent to Total\":january_percent_to_year_total},\n",
    "    {\"Month\":\"March\", \"Number of Violations\": total_number_violations_march, \"Percent to Total\": march_percent_to_year_total},\n",
    "    {\"Month\":\"April\", \"Number of Violations\": total_number_violations_april, \"Percent to Total\": april_percent_to_year_total},\n",
    "    {\"Month\":\"May\", \"Number of Violations\": total_number_violations_may, \"Percent to Total\": may_percent_to_year_total},\n",
    "    {\"Month\":\"June\", \"Number of Violations\": total_number_violations_june, \"Percent to Total\": june_percent_to_year_total},\n",
    "    {\"Month\":\"July\", \"Number of Violations\": total_number_violations_july, \"Percent to Total\": july_percent_to_year_total},\n",
    "     {\"Month\":\"August\", \"Number of Violations\": total_number_violations_august, \"Percent to Total\": august_percent_to_year_total},\n",
    "     {\"Month\":\"September\", \"Number of Violations\": total_number_violations_september, \"Percent to Total\": september_percent_to_year_total},\n",
    "     {\"Month\":\"October\", \"Number of Violations\": total_number_violations_october, \"Percent to Total\": october_percent_to_year_total},\n",
    "     {\"Month\":\"November\", \"Number of Violations\": total_number_violations_november, \"Percent to Total\": november_percent_to_year_total},\n",
    "     {\"Month\":\"December\", \"Number of Violations\": total_number_violations_december, \"Percent to Total\": december_percent_to_year_total},\n",
    "])"
   ]
  },
  {
   "cell_type": "markdown",
   "metadata": {},
   "source": [
    "* Set the index to the Month\n",
    "* Renamed the column 'Month'\n",
    "* Printed the DataFrame"
   ]
  },
  {
   "cell_type": "code",
   "execution_count": 16,
   "metadata": {},
   "outputs": [
    {
     "data": {
      "text/html": [
       "<div>\n",
       "<style scoped>\n",
       "    .dataframe tbody tr th:only-of-type {\n",
       "        vertical-align: middle;\n",
       "    }\n",
       "\n",
       "    .dataframe tbody tr th {\n",
       "        vertical-align: top;\n",
       "    }\n",
       "\n",
       "    .dataframe thead th {\n",
       "        text-align: right;\n",
       "    }\n",
       "</style>\n",
       "<table border=\"1\" class=\"dataframe\">\n",
       "  <thead>\n",
       "    <tr style=\"text-align: right;\">\n",
       "      <th></th>\n",
       "      <th>Month</th>\n",
       "      <th>Number of Violations</th>\n",
       "      <th>Percent to Total</th>\n",
       "    </tr>\n",
       "  </thead>\n",
       "  <tbody>\n",
       "    <tr>\n",
       "      <th>5</th>\n",
       "      <td>July</td>\n",
       "      <td>158123</td>\n",
       "      <td>12.704296</td>\n",
       "    </tr>\n",
       "    <tr>\n",
       "      <th>6</th>\n",
       "      <td>August</td>\n",
       "      <td>149324</td>\n",
       "      <td>11.997345</td>\n",
       "    </tr>\n",
       "    <tr>\n",
       "      <th>4</th>\n",
       "      <td>June</td>\n",
       "      <td>143351</td>\n",
       "      <td>11.517448</td>\n",
       "    </tr>\n",
       "    <tr>\n",
       "      <th>3</th>\n",
       "      <td>May</td>\n",
       "      <td>110592</td>\n",
       "      <td>8.885447</td>\n",
       "    </tr>\n",
       "    <tr>\n",
       "      <th>2</th>\n",
       "      <td>April</td>\n",
       "      <td>108258</td>\n",
       "      <td>8.697923</td>\n",
       "    </tr>\n",
       "    <tr>\n",
       "      <th>1</th>\n",
       "      <td>March</td>\n",
       "      <td>105340</td>\n",
       "      <td>8.463478</td>\n",
       "    </tr>\n",
       "    <tr>\n",
       "      <th>7</th>\n",
       "      <td>September</td>\n",
       "      <td>102942</td>\n",
       "      <td>8.270812</td>\n",
       "    </tr>\n",
       "    <tr>\n",
       "      <th>8</th>\n",
       "      <td>October</td>\n",
       "      <td>98173</td>\n",
       "      <td>7.887650</td>\n",
       "    </tr>\n",
       "    <tr>\n",
       "      <th>0</th>\n",
       "      <td>January</td>\n",
       "      <td>94914</td>\n",
       "      <td>7.625807</td>\n",
       "    </tr>\n",
       "    <tr>\n",
       "      <th>9</th>\n",
       "      <td>November</td>\n",
       "      <td>94186</td>\n",
       "      <td>7.567317</td>\n",
       "    </tr>\n",
       "    <tr>\n",
       "      <th>10</th>\n",
       "      <td>December</td>\n",
       "      <td>79439</td>\n",
       "      <td>6.382478</td>\n",
       "    </tr>\n",
       "  </tbody>\n",
       "</table>\n",
       "</div>"
      ],
      "text/plain": [
       "        Month  Number of Violations  Percent to Total\n",
       "5        July                158123         12.704296\n",
       "6      August                149324         11.997345\n",
       "4        June                143351         11.517448\n",
       "3         May                110592          8.885447\n",
       "2       April                108258          8.697923\n",
       "1       March                105340          8.463478\n",
       "7   September                102942          8.270812\n",
       "8     October                 98173          7.887650\n",
       "0     January                 94914          7.625807\n",
       "9    November                 94186          7.567317\n",
       "10   December                 79439          6.382478"
      ]
     },
     "execution_count": 16,
     "metadata": {},
     "output_type": "execute_result"
    }
   ],
   "source": [
    "#total_number_violations_per_month = total_number_violations_per_month.set_index(\"Month\")\n",
    "#total_number_violations_per_month.index.name = 'Month'\n",
    "total_number_violations_per_month.sort_values(['Number of Violations'], ascending=False)"
   ]
  },
  {
   "cell_type": "markdown",
   "metadata": {},
   "source": [
    "### Two Charts for Total Number of Violations Per Month:\n",
    "* Bar chart for number of violations per month\n",
    "* Line chart for number of violations per month"
   ]
  },
  {
   "cell_type": "markdown",
   "metadata": {},
   "source": [
    "### Bar Chart\n",
    "\n",
    "* Barh makes it horizontal\n",
    "* Legend=False removes the legend\n",
    "* Color = 'choose desired color'\n",
    "* Edgecolor = 'outlines the bar in a color'\n",
    "* Figsize = (makes the chart taller, or longer)\n",
    "* Fontsize = increases or decreases letter size\n",
    "* Plt.grid = adds grid lines to chart"
   ]
  },
  {
   "cell_type": "code",
   "execution_count": 17,
   "metadata": {},
   "outputs": [
    {
     "data": {
      "text/plain": [
       "Text(0.5, 1.0, 'Total Count of Violations per Month for 2019')"
      ]
     },
     "execution_count": 17,
     "metadata": {},
     "output_type": "execute_result"
    },
    {
     "data": {
      "image/png": "[encoded data removed]",
      "text/plain": [
       "<Figure size 1080x360 with 1 Axes>"
      ]
     },
     "metadata": {
      "needs_background": "light"
     },
     "output_type": "display_data"
    }
   ],
   "source": [
    "total_number_violations_per_month.plot(kind='barh', x='Month', y='Number of Violations', legend=False, color='green', edgecolor = 'black', figsize=(15,5), fontsize=11)\n",
    "plt.ylabel('Number of Violations', fontsize=12)\n",
    "plt.xlabel('Month', fontsize=12)\n",
    "plt.grid(color='#95a5a6', linestyle='--', linewidth=2, axis='x', alpha=0.5)\n",
    "plt.title('Total Count of Violations per Month for 2019', fontsize=14)"
   ]
  },
  {
   "cell_type": "markdown",
   "metadata": {},
   "source": [
    "### Line Chart\n",
    "\n",
    "* Includes most of the same formatting options as above\n",
    "* Marker = 'different shapes to denote data points"
   ]
  },
  {
   "cell_type": "code",
   "execution_count": 18,
   "metadata": {},
   "outputs": [
    {
     "name": "stdout",
     "output_type": "stream",
     "text": [
      "149,324 violations were issued in DC during August accounting for 12.43% of the total number of violations issued.\n",
      "143,351 violations were issued during June, accounting for 11.93% of the total number of violations issued.\n"
     ]
    },
    {
     "data": {
      "image/png": "[encoded data removed]",
      "text/plain": [
       "<Figure size 1080x360 with 1 Axes>"
      ]
     },
     "metadata": {
      "needs_background": "light"
     },
     "output_type": "display_data"
    }
   ],
   "source": [
    "total_number_violations_per_month.plot(kind='line', x='Month', y='Number of Violations', color='green', marker = 'o', figsize=(15,5), fontsize=11)\n",
    "plt.ylabel('Number of Violations', fontsize=12)\n",
    "plt.xlabel('Month', fontsize=12)\n",
    "plt.title('Total Count of Violations per Month for 2019', fontsize=14)\n",
    "\n",
    "\n",
    "print('149,324 violations were issued in DC during August accounting for 12.43% of the total number of violations issued.')\n",
    "print('143,351 violations were issued during June, accounting for 11.93% of the total number of violations issued.')"
   ]
  },
  {
   "cell_type": "markdown",
   "metadata": {},
   "source": [
    "## Two Charts for Each Month's Percent to Total\n",
    "* Bar chart for percent to total by month\n",
    "* Line chart for percent to total by month\n",
    "* I have no idea why the line chart has ommitted every other month"
   ]
  },
  {
   "cell_type": "markdown",
   "metadata": {},
   "source": [
    "### Bar Chart\n",
    "\n",
    "* Please see descriptions for previous two charts"
   ]
  },
  {
   "cell_type": "code",
   "execution_count": 19,
   "metadata": {},
   "outputs": [
    {
     "data": {
      "text/plain": [
       "Text(0.5, 1.0, 'Percent to Total by Month for 2019')"
      ]
     },
     "execution_count": 19,
     "metadata": {},
     "output_type": "execute_result"
    },
    {
     "data": {
      "image/png": "[encoded data removed]",
      "text/plain": [
       "<Figure size 1080x360 with 1 Axes>"
      ]
     },
     "metadata": {
      "needs_background": "light"
     },
     "output_type": "display_data"
    }
   ],
   "source": [
    "total_number_violations_per_month.plot(kind='barh', x='Month', y='Percent to Total', legend=False, color='blue', edgecolor = 'black', figsize=(15,5), fontsize=11)\n",
    "plt.ylabel('Percent to Total', fontsize=12)\n",
    "plt.xlabel('Month', fontsize=12)\n",
    "plt.title('Percent to Total by Month for 2019', fontsize=14)"
   ]
  },
  {
   "cell_type": "markdown",
   "metadata": {},
   "source": [
    "### Line Chart\n",
    "\n",
    "* Please see descriptions for previous two charts"
   ]
  },
  {
   "cell_type": "code",
   "execution_count": 20,
   "metadata": {},
   "outputs": [
    {
     "data": {
      "text/plain": [
       "(array([-2.,  0.,  2.,  4.,  6.,  8., 10., 12.]),\n",
       " <a list of 8 Text major ticklabel objects>)"
      ]
     },
     "execution_count": 20,
     "metadata": {},
     "output_type": "execute_result"
    },
    {
     "data": {
      "image/png": "[encoded data removed]",
      "text/plain": [
       "<Figure size 1080x360 with 1 Axes>"
      ]
     },
     "metadata": {
      "needs_background": "light"
     },
     "output_type": "display_data"
    }
   ],
   "source": [
    "total_number_violations_per_month.plot(kind='line', x='Month', y='Percent to Total', color='blue', marker = 'o', figsize=(15,5), fontsize=11)\n",
    "plt.ylabel('Percent to Total', fontsize=12)\n",
    "plt.xlabel('Month', fontsize=12)\n",
    "plt.title('Percent to Total by Month for 2019', fontsize=14)\n",
    "plt.xticks(rotation=90)"
   ]
  },
  {
   "cell_type": "markdown",
   "metadata": {},
   "source": [
    "# Total number of each violation issued for each month and the year"
   ]
  },
  {
   "cell_type": "markdown",
   "metadata": {},
   "source": [
    "## Determine the count of each type of violation for each month while dropping all unnecessary columns\n",
    "* Using each individual month's CSV, count the number of violations issued and groupby 'Violation Process Description'\n",
    "\n",
    "* Rename the column 'OBJECTID' according to the month I was working with in preparation for a new DataFrame which would hold each month's count\n",
    "\n",
    "* Rename the index from 'VIOLATION_PROCESS_DESC' to 'Violation Desription' for clarity\n",
    "\n",
    "* Repeat the process for all eleven months of 2019\n",
    "\n",
    "* THE END OF THE CELL SHOWS AN EXAMPLE OF HOW EACH MONTH PRINTS"
   ]
  },
  {
   "cell_type": "code",
   "execution_count": 21,
   "metadata": {},
   "outputs": [
    {
     "data": {
      "text/html": [
       "<div>\n",
       "<style scoped>\n",
       "    .dataframe tbody tr th:only-of-type {\n",
       "        vertical-align: middle;\n",
       "    }\n",
       "\n",
       "    .dataframe tbody tr th {\n",
       "        vertical-align: top;\n",
       "    }\n",
       "\n",
       "    .dataframe thead th {\n",
       "        text-align: right;\n",
       "    }\n",
       "</style>\n",
       "<table border=\"1\" class=\"dataframe\">\n",
       "  <thead>\n",
       "    <tr style=\"text-align: right;\">\n",
       "      <th></th>\n",
       "      <th>DECEMBER</th>\n",
       "    </tr>\n",
       "    <tr>\n",
       "      <th>VIOLATION DESCRIPTION</th>\n",
       "      <th></th>\n",
       "    </tr>\n",
       "  </thead>\n",
       "  <tbody>\n",
       "    <tr>\n",
       "      <th>ALTERED TAGS</th>\n",
       "      <td>1</td>\n",
       "    </tr>\n",
       "    <tr>\n",
       "      <th>BACK UP WITHOUT CAUTION</th>\n",
       "      <td>14</td>\n",
       "    </tr>\n",
       "    <tr>\n",
       "      <th>BACKING TO TURN</th>\n",
       "      <td>2</td>\n",
       "    </tr>\n",
       "    <tr>\n",
       "      <th>BAD FOOT BRAKES</th>\n",
       "      <td>1</td>\n",
       "    </tr>\n",
       "    <tr>\n",
       "      <th>BIKE/PMD FAIL TO YIELD RIGHT OF WAY  TO PED OR VEH</th>\n",
       "      <td>1</td>\n",
       "    </tr>\n",
       "    <tr>\n",
       "      <th>...</th>\n",
       "      <td>...</td>\n",
       "    </tr>\n",
       "    <tr>\n",
       "      <th>VIOLATION OF ONE WAY STREET RESTRICTION</th>\n",
       "      <td>10</td>\n",
       "    </tr>\n",
       "    <tr>\n",
       "      <th>VIOLATION OF RESTRICTION ON LEARNER'S PERMIT</th>\n",
       "      <td>12</td>\n",
       "    </tr>\n",
       "    <tr>\n",
       "      <th>VIOLATION OF THE CHILD RESTRAINT ACT</th>\n",
       "      <td>12</td>\n",
       "    </tr>\n",
       "    <tr>\n",
       "      <th>VIOLATION OF TINTED WINDOWS REGULATIONS</th>\n",
       "      <td>176</td>\n",
       "    </tr>\n",
       "    <tr>\n",
       "      <th>WINDSHIELD NOT IN OPERATING CONDITION</th>\n",
       "      <td>1</td>\n",
       "    </tr>\n",
       "  </tbody>\n",
       "</table>\n",
       "<p>158 rows × 1 columns</p>\n",
       "</div>"
      ],
      "text/plain": [
       "                                                    DECEMBER\n",
       "VIOLATION DESCRIPTION                                       \n",
       "ALTERED TAGS                                               1\n",
       "BACK UP WITHOUT CAUTION                                   14\n",
       "BACKING TO TURN                                            2\n",
       "BAD FOOT BRAKES                                            1\n",
       "BIKE/PMD FAIL TO YIELD RIGHT OF WAY  TO PED OR VEH         1\n",
       "...                                                      ...\n",
       "VIOLATION OF ONE WAY STREET RESTRICTION                   10\n",
       "VIOLATION OF RESTRICTION ON LEARNER'S PERMIT              12\n",
       "VIOLATION OF THE CHILD RESTRAINT ACT                      12\n",
       "VIOLATION OF TINTED WINDOWS REGULATIONS                  176\n",
       "WINDSHIELD NOT IN OPERATING CONDITION                      1\n",
       "\n",
       "[158 rows x 1 columns]"
      ]
     },
     "execution_count": 21,
     "metadata": {},
     "output_type": "execute_result"
    }
   ],
   "source": [
    "january_violations = january_df.groupby('VIOLATION_PROCESS_DESC').count()[['OBJECTID']]\n",
    "january_violations = january_violations.rename(columns =  {'OBJECTID':'JANUARY'})\n",
    "january_violations.index.name = 'VIOLATION DESCRIPTION'\n",
    "\n",
    "\n",
    "march_violations = march_df.groupby('VIOLATION_PROCESS_DESC').count()[['OBJECTID']]\n",
    "march_violations = march_violations.rename(columns =  {'OBJECTID':'MARCH'})\n",
    "march_violations.index.name = 'VIOLATION DESCRIPTION'\n",
    "\n",
    "\n",
    "april_violations = april_df.groupby('VIOLATION_PROCESS_DESC').count()[['OBJECTID']]\n",
    "april_violations = april_violations.rename(columns =  {'OBJECTID':'APRIL'})\n",
    "april_violations.index.name = 'VIOLATION DESCRIPTION'\n",
    "\n",
    "\n",
    "may_violations = may_df.groupby('VIOLATION_PROCESS_DESC').count()[['OBJECTID']]\n",
    "may_violations = may_violations.rename(columns =  {'OBJECTID':'MAY'})\n",
    "may_violations.index.name = 'VIOLATION DESCRIPTION'\n",
    "\n",
    "\n",
    "june_violations = june_df.groupby('VIOLATION_PROCESS_DESC').count()[['OBJECTID']]\n",
    "june_violations = june_violations.rename(columns =  {'OBJECTID':'JUNE'})\n",
    "june_violations.index.name = 'VIOLATION DESCRIPTION'\n",
    "\n",
    "\n",
    "july_violations = july_df.groupby('VIOLATION_PROCESS_DESC').count()[['OBJECTID']]\n",
    "july_violations = july_violations.rename(columns =  {'OBJECTID':'JULY'})\n",
    "july_violations.index.name = 'VIOLATION DESCRIPTION'\n",
    "\n",
    "\n",
    "august_violations = august_df.groupby('VIOLATION_PROCESS_DESC').count()[['OBJECTID']]\n",
    "august_violations = august_violations.rename(columns =  {'OBJECTID':'AUGUST'})\n",
    "august_violations.index.name = 'VIOLATION DESCRIPTION'\n",
    "\n",
    "\n",
    "september_violations = september_df.groupby('VIOLATION_PROCESS_DESC').count()[['OBJECTID']]\n",
    "september_violations = september_violations.rename(columns =  {'OBJECTID':'SEPTEMBER'})\n",
    "september_violations.index.name = 'VIOLATION DESCRIPTION'\n",
    "\n",
    "\n",
    "october_violations = october_df.groupby('VIOLATION_PROCESS_DESC').count()[['OBJECTID']]\n",
    "october_violations = october_violations.rename(columns =  {'OBJECTID':'OCTOBER'})\n",
    "october_violations.index.name = 'VIOLATION DESCRIPTION'\n",
    "\n",
    "\n",
    "november_violations = november_df.groupby('VIOLATION_PROCESS_DESC').count()[['OBJECTID']]\n",
    "november_violations = november_violations.rename(columns =  {'OBJECTID':'NOVEMBER'})\n",
    "november_violations.index.name = 'VIOLATION DESCRIPTION'\n",
    "\n",
    "\n",
    "december_violations = december_df.groupby('VIOLATION_PROCESS_DESC').count()[['OBJECTID']]\n",
    "december_violations = december_violations.rename(columns =  {'OBJECTID':'DECEMBER'})\n",
    "december_violations.index.name = 'VIOLATION DESCRIPTION'\n",
    "december_violations"
   ]
  },
  {
   "cell_type": "markdown",
   "metadata": {},
   "source": [
    "* This code merges each months DataFrame, starting with January and March (remember, February is missing)\n",
    "* One month is merged at a time\n",
    "* After each month is merged, we replace the NaN with 0 for better readability\n",
    "* We create a column called 'YEARLY TOTALS' to hold the total of each violation using the variable 'counts'"
   ]
  },
  {
   "cell_type": "code",
   "execution_count": 22,
   "metadata": {},
   "outputs": [],
   "source": [
    "# Merge each month's count together so that we have the total count of each violation per month for the whole 2019 year\n",
    "\n",
    "jan_march = pd.merge(january_violations, march_violations, on = 'VIOLATION DESCRIPTION', how = 'outer')\n",
    "jan_march\n",
    "\n",
    "with_april = pd.merge(jan_march, april_violations, on = 'VIOLATION DESCRIPTION', how = 'outer')\n",
    "with_april\n",
    "\n",
    "with_may = pd.merge(with_april, may_violations, on = 'VIOLATION DESCRIPTION', how = 'outer')\n",
    "with_may\n",
    "\n",
    "with_june = pd.merge(with_may, june_violations, on = 'VIOLATION DESCRIPTION', how = 'outer')\n",
    "with_june\n",
    "\n",
    "with_july = pd.merge(with_june, july_violations, on = 'VIOLATION DESCRIPTION', how = 'outer')\n",
    "with_july\n",
    "\n",
    "with_august = pd.merge(with_july, august_violations, on = 'VIOLATION DESCRIPTION', how = 'outer')\n",
    "with_august\n",
    "\n",
    "with_september = pd.merge(with_august, september_violations, on = 'VIOLATION DESCRIPTION', how = 'outer')\n",
    "with_september\n",
    "\n",
    "with_october = pd.merge(with_september, october_violations, on = 'VIOLATION DESCRIPTION', how = 'outer')\n",
    "with_october\n",
    "\n",
    "with_november = pd.merge(with_october, november_violations, on = 'VIOLATION DESCRIPTION', how = 'outer')\n",
    "with_november\n",
    "\n",
    "violation_count_per_month_for_the_year = pd.merge(with_november, december_violations, on = 'VIOLATION DESCRIPTION', how = 'outer')\n",
    "violation_count_per_month_for_the_year\n",
    "\n",
    "# Replance NaN with 0\n",
    "violation_count_per_month_for_the_year = violation_count_per_month_for_the_year.replace(np.nan,0)\n",
    "violation_count_per_month_for_the_year\n",
    "\n",
    "# Add up the vilation count for each month and store the info in 'counts'\n",
    "counts = violation_count_per_month_for_the_year['JANUARY'] + violation_count_per_month_for_the_year['MARCH'] + violation_count_per_month_for_the_year['APRIL'] + violation_count_per_month_for_the_year['MAY'] + \\\n",
    "violation_count_per_month_for_the_year['JUNE'] + violation_count_per_month_for_the_year['JULY'] + violation_count_per_month_for_the_year['AUGUST'] + \\\n",
    "violation_count_per_month_for_the_year['SEPTEMBER'] + violation_count_per_month_for_the_year['OCTOBER'] + violation_count_per_month_for_the_year['NOVEMBER'] + \\\n",
    "violation_count_per_month_for_the_year['DECEMBER']\n",
    "\n",
    "violation_count_per_month_for_the_year['YEARLY TOTALS'] = counts\n",
    "#violation_count_per_month_for_the_year"
   ]
  },
  {
   "cell_type": "markdown",
   "metadata": {},
   "source": [
    "* This code determines the percent of each violation compared to the year's total number of violations"
   ]
  },
  {
   "cell_type": "code",
   "execution_count": 23,
   "metadata": {},
   "outputs": [
    {
     "data": {
      "text/html": [
       "<div>\n",
       "<style scoped>\n",
       "    .dataframe tbody tr th:only-of-type {\n",
       "        vertical-align: middle;\n",
       "    }\n",
       "\n",
       "    .dataframe tbody tr th {\n",
       "        vertical-align: top;\n",
       "    }\n",
       "\n",
       "    .dataframe thead th {\n",
       "        text-align: right;\n",
       "    }\n",
       "</style>\n",
       "<table border=\"1\" class=\"dataframe\">\n",
       "  <thead>\n",
       "    <tr style=\"text-align: right;\">\n",
       "      <th></th>\n",
       "      <th>JANUARY</th>\n",
       "      <th>MARCH</th>\n",
       "      <th>APRIL</th>\n",
       "      <th>MAY</th>\n",
       "      <th>JUNE</th>\n",
       "      <th>JULY</th>\n",
       "      <th>AUGUST</th>\n",
       "      <th>SEPTEMBER</th>\n",
       "      <th>OCTOBER</th>\n",
       "      <th>NOVEMBER</th>\n",
       "      <th>DECEMBER</th>\n",
       "      <th>YEARLY TOTALS</th>\n",
       "      <th>PERCENT TO TOTAL VIOLATIONS</th>\n",
       "    </tr>\n",
       "    <tr>\n",
       "      <th>VIOLATION DESCRIPTION</th>\n",
       "      <th></th>\n",
       "      <th></th>\n",
       "      <th></th>\n",
       "      <th></th>\n",
       "      <th></th>\n",
       "      <th></th>\n",
       "      <th></th>\n",
       "      <th></th>\n",
       "      <th></th>\n",
       "      <th></th>\n",
       "      <th></th>\n",
       "      <th></th>\n",
       "      <th></th>\n",
       "    </tr>\n",
       "  </thead>\n",
       "  <tbody>\n",
       "    <tr>\n",
       "      <th>ALTERED TAGS</th>\n",
       "      <td>4.0</td>\n",
       "      <td>4.0</td>\n",
       "      <td>1.0</td>\n",
       "      <td>3.0</td>\n",
       "      <td>6.0</td>\n",
       "      <td>1.0</td>\n",
       "      <td>6.0</td>\n",
       "      <td>7.0</td>\n",
       "      <td>1.0</td>\n",
       "      <td>5.0</td>\n",
       "      <td>1.0</td>\n",
       "      <td>39.0</td>\n",
       "      <td>0.003133</td>\n",
       "    </tr>\n",
       "    <tr>\n",
       "      <th>ALTERING A DRIVING PERMIT</th>\n",
       "      <td>3.0</td>\n",
       "      <td>1.0</td>\n",
       "      <td>0.0</td>\n",
       "      <td>1.0</td>\n",
       "      <td>0.0</td>\n",
       "      <td>0.0</td>\n",
       "      <td>0.0</td>\n",
       "      <td>0.0</td>\n",
       "      <td>0.0</td>\n",
       "      <td>3.0</td>\n",
       "      <td>0.0</td>\n",
       "      <td>8.0</td>\n",
       "      <td>0.000643</td>\n",
       "    </tr>\n",
       "    <tr>\n",
       "      <th>BACK UP WITHOUT CAUTION</th>\n",
       "      <td>19.0</td>\n",
       "      <td>25.0</td>\n",
       "      <td>22.0</td>\n",
       "      <td>24.0</td>\n",
       "      <td>21.0</td>\n",
       "      <td>6.0</td>\n",
       "      <td>26.0</td>\n",
       "      <td>18.0</td>\n",
       "      <td>22.0</td>\n",
       "      <td>14.0</td>\n",
       "      <td>14.0</td>\n",
       "      <td>211.0</td>\n",
       "      <td>0.016953</td>\n",
       "    </tr>\n",
       "    <tr>\n",
       "      <th>BACKING TO TURN</th>\n",
       "      <td>1.0</td>\n",
       "      <td>4.0</td>\n",
       "      <td>0.0</td>\n",
       "      <td>0.0</td>\n",
       "      <td>1.0</td>\n",
       "      <td>0.0</td>\n",
       "      <td>0.0</td>\n",
       "      <td>0.0</td>\n",
       "      <td>0.0</td>\n",
       "      <td>0.0</td>\n",
       "      <td>2.0</td>\n",
       "      <td>8.0</td>\n",
       "      <td>0.000643</td>\n",
       "    </tr>\n",
       "    <tr>\n",
       "      <th>BAD FOOT BRAKES</th>\n",
       "      <td>2.0</td>\n",
       "      <td>2.0</td>\n",
       "      <td>2.0</td>\n",
       "      <td>1.0</td>\n",
       "      <td>2.0</td>\n",
       "      <td>0.0</td>\n",
       "      <td>1.0</td>\n",
       "      <td>1.0</td>\n",
       "      <td>0.0</td>\n",
       "      <td>2.0</td>\n",
       "      <td>1.0</td>\n",
       "      <td>14.0</td>\n",
       "      <td>0.001125</td>\n",
       "    </tr>\n",
       "    <tr>\n",
       "      <th>...</th>\n",
       "      <td>...</td>\n",
       "      <td>...</td>\n",
       "      <td>...</td>\n",
       "      <td>...</td>\n",
       "      <td>...</td>\n",
       "      <td>...</td>\n",
       "      <td>...</td>\n",
       "      <td>...</td>\n",
       "      <td>...</td>\n",
       "      <td>...</td>\n",
       "      <td>...</td>\n",
       "      <td>...</td>\n",
       "      <td>...</td>\n",
       "    </tr>\n",
       "    <tr>\n",
       "      <th>VIOLATE BRIDGE LOAD LIMIT</th>\n",
       "      <td>0.0</td>\n",
       "      <td>0.0</td>\n",
       "      <td>0.0</td>\n",
       "      <td>0.0</td>\n",
       "      <td>0.0</td>\n",
       "      <td>0.0</td>\n",
       "      <td>0.0</td>\n",
       "      <td>0.0</td>\n",
       "      <td>1.0</td>\n",
       "      <td>0.0</td>\n",
       "      <td>0.0</td>\n",
       "      <td>1.0</td>\n",
       "      <td>0.000080</td>\n",
       "    </tr>\n",
       "    <tr>\n",
       "      <th>FAIL TO PROCEED WITH CAUTION THROUGH AN INCIDENT</th>\n",
       "      <td>0.0</td>\n",
       "      <td>0.0</td>\n",
       "      <td>0.0</td>\n",
       "      <td>0.0</td>\n",
       "      <td>0.0</td>\n",
       "      <td>0.0</td>\n",
       "      <td>0.0</td>\n",
       "      <td>0.0</td>\n",
       "      <td>0.0</td>\n",
       "      <td>1.0</td>\n",
       "      <td>0.0</td>\n",
       "      <td>1.0</td>\n",
       "      <td>0.000080</td>\n",
       "    </tr>\n",
       "    <tr>\n",
       "      <th>NO SNOW TIRE OR CHAIN</th>\n",
       "      <td>0.0</td>\n",
       "      <td>0.0</td>\n",
       "      <td>0.0</td>\n",
       "      <td>0.0</td>\n",
       "      <td>0.0</td>\n",
       "      <td>0.0</td>\n",
       "      <td>0.0</td>\n",
       "      <td>0.0</td>\n",
       "      <td>0.0</td>\n",
       "      <td>1.0</td>\n",
       "      <td>0.0</td>\n",
       "      <td>1.0</td>\n",
       "      <td>0.000080</td>\n",
       "    </tr>\n",
       "    <tr>\n",
       "      <th>PROVISIONAL PERMIT NIGHT RESTRICTION</th>\n",
       "      <td>0.0</td>\n",
       "      <td>0.0</td>\n",
       "      <td>0.0</td>\n",
       "      <td>0.0</td>\n",
       "      <td>0.0</td>\n",
       "      <td>0.0</td>\n",
       "      <td>0.0</td>\n",
       "      <td>0.0</td>\n",
       "      <td>0.0</td>\n",
       "      <td>1.0</td>\n",
       "      <td>0.0</td>\n",
       "      <td>1.0</td>\n",
       "      <td>0.000080</td>\n",
       "    </tr>\n",
       "    <tr>\n",
       "      <th>FAIL TO APPLY DC TAG</th>\n",
       "      <td>0.0</td>\n",
       "      <td>0.0</td>\n",
       "      <td>0.0</td>\n",
       "      <td>0.0</td>\n",
       "      <td>0.0</td>\n",
       "      <td>0.0</td>\n",
       "      <td>0.0</td>\n",
       "      <td>0.0</td>\n",
       "      <td>0.0</td>\n",
       "      <td>0.0</td>\n",
       "      <td>1.0</td>\n",
       "      <td>1.0</td>\n",
       "      <td>0.000080</td>\n",
       "    </tr>\n",
       "  </tbody>\n",
       "</table>\n",
       "<p>258 rows × 13 columns</p>\n",
       "</div>"
      ],
      "text/plain": [
       "                                                  JANUARY  MARCH  APRIL   MAY  \\\n",
       "VIOLATION DESCRIPTION                                                           \n",
       "ALTERED TAGS                                          4.0    4.0    1.0   3.0   \n",
       "ALTERING A DRIVING PERMIT                             3.0    1.0    0.0   1.0   \n",
       "BACK UP WITHOUT CAUTION                              19.0   25.0   22.0  24.0   \n",
       "BACKING TO TURN                                       1.0    4.0    0.0   0.0   \n",
       "BAD FOOT BRAKES                                       2.0    2.0    2.0   1.0   \n",
       "...                                                   ...    ...    ...   ...   \n",
       "VIOLATE BRIDGE LOAD LIMIT                             0.0    0.0    0.0   0.0   \n",
       "FAIL TO PROCEED WITH CAUTION THROUGH AN INCIDENT      0.0    0.0    0.0   0.0   \n",
       "NO SNOW TIRE OR CHAIN                                 0.0    0.0    0.0   0.0   \n",
       "PROVISIONAL PERMIT NIGHT RESTRICTION                  0.0    0.0    0.0   0.0   \n",
       "FAIL TO APPLY DC TAG                                  0.0    0.0    0.0   0.0   \n",
       "\n",
       "                                                  JUNE  JULY  AUGUST  \\\n",
       "VIOLATION DESCRIPTION                                                  \n",
       "ALTERED TAGS                                       6.0   1.0     6.0   \n",
       "ALTERING A DRIVING PERMIT                          0.0   0.0     0.0   \n",
       "BACK UP WITHOUT CAUTION                           21.0   6.0    26.0   \n",
       "BACKING TO TURN                                    1.0   0.0     0.0   \n",
       "BAD FOOT BRAKES                                    2.0   0.0     1.0   \n",
       "...                                                ...   ...     ...   \n",
       "VIOLATE BRIDGE LOAD LIMIT                          0.0   0.0     0.0   \n",
       "FAIL TO PROCEED WITH CAUTION THROUGH AN INCIDENT   0.0   0.0     0.0   \n",
       "NO SNOW TIRE OR CHAIN                              0.0   0.0     0.0   \n",
       "PROVISIONAL PERMIT NIGHT RESTRICTION               0.0   0.0     0.0   \n",
       "FAIL TO APPLY DC TAG                               0.0   0.0     0.0   \n",
       "\n",
       "                                                  SEPTEMBER  OCTOBER  \\\n",
       "VIOLATION DESCRIPTION                                                  \n",
       "ALTERED TAGS                                            7.0      1.0   \n",
       "ALTERING A DRIVING PERMIT                               0.0      0.0   \n",
       "BACK UP WITHOUT CAUTION                                18.0     22.0   \n",
       "BACKING TO TURN                                         0.0      0.0   \n",
       "BAD FOOT BRAKES                                         1.0      0.0   \n",
       "...                                                     ...      ...   \n",
       "VIOLATE BRIDGE LOAD LIMIT                               0.0      1.0   \n",
       "FAIL TO PROCEED WITH CAUTION THROUGH AN INCIDENT        0.0      0.0   \n",
       "NO SNOW TIRE OR CHAIN                                   0.0      0.0   \n",
       "PROVISIONAL PERMIT NIGHT RESTRICTION                    0.0      0.0   \n",
       "FAIL TO APPLY DC TAG                                    0.0      0.0   \n",
       "\n",
       "                                                  NOVEMBER  DECEMBER  \\\n",
       "VIOLATION DESCRIPTION                                                  \n",
       "ALTERED TAGS                                           5.0       1.0   \n",
       "ALTERING A DRIVING PERMIT                              3.0       0.0   \n",
       "BACK UP WITHOUT CAUTION                               14.0      14.0   \n",
       "BACKING TO TURN                                        0.0       2.0   \n",
       "BAD FOOT BRAKES                                        2.0       1.0   \n",
       "...                                                    ...       ...   \n",
       "VIOLATE BRIDGE LOAD LIMIT                              0.0       0.0   \n",
       "FAIL TO PROCEED WITH CAUTION THROUGH AN INCIDENT       1.0       0.0   \n",
       "NO SNOW TIRE OR CHAIN                                  1.0       0.0   \n",
       "PROVISIONAL PERMIT NIGHT RESTRICTION                   1.0       0.0   \n",
       "FAIL TO APPLY DC TAG                                   0.0       1.0   \n",
       "\n",
       "                                                  YEARLY TOTALS  \\\n",
       "VIOLATION DESCRIPTION                                             \n",
       "ALTERED TAGS                                               39.0   \n",
       "ALTERING A DRIVING PERMIT                                   8.0   \n",
       "BACK UP WITHOUT CAUTION                                   211.0   \n",
       "BACKING TO TURN                                             8.0   \n",
       "BAD FOOT BRAKES                                            14.0   \n",
       "...                                                         ...   \n",
       "VIOLATE BRIDGE LOAD LIMIT                                   1.0   \n",
       "FAIL TO PROCEED WITH CAUTION THROUGH AN INCIDENT            1.0   \n",
       "NO SNOW TIRE OR CHAIN                                       1.0   \n",
       "PROVISIONAL PERMIT NIGHT RESTRICTION                        1.0   \n",
       "FAIL TO APPLY DC TAG                                        1.0   \n",
       "\n",
       "                                                  PERCENT TO TOTAL VIOLATIONS  \n",
       "VIOLATION DESCRIPTION                                                          \n",
       "ALTERED TAGS                                                         0.003133  \n",
       "ALTERING A DRIVING PERMIT                                            0.000643  \n",
       "BACK UP WITHOUT CAUTION                                              0.016953  \n",
       "BACKING TO TURN                                                      0.000643  \n",
       "BAD FOOT BRAKES                                                      0.001125  \n",
       "...                                                                       ...  \n",
       "VIOLATE BRIDGE LOAD LIMIT                                            0.000080  \n",
       "FAIL TO PROCEED WITH CAUTION THROUGH AN INCIDENT                     0.000080  \n",
       "NO SNOW TIRE OR CHAIN                                                0.000080  \n",
       "PROVISIONAL PERMIT NIGHT RESTRICTION                                 0.000080  \n",
       "FAIL TO APPLY DC TAG                                                 0.000080  \n",
       "\n",
       "[258 rows x 13 columns]"
      ]
     },
     "execution_count": 23,
     "metadata": {},
     "output_type": "execute_result"
    }
   ],
   "source": [
    "percent = round(counts / total_number_of_violations_year* 100,10)\n",
    "violation_count_per_month_for_the_year['PERCENT TO TOTAL VIOLATIONS'] = percent\n",
    "violation_count_per_month_for_the_year"
   ]
  },
  {
   "cell_type": "markdown",
   "metadata": {},
   "source": [
    "* Finally, this code sorts the DataFrame from highest to lowest so that we can clearly see which violations were most commonly issued\n",
    "* *There are many violations which were only handed out once for the entire year, or account for 0.000083% of the total. These are violations we may want to consider dropping, or maybe we do a top 20 bottom 20 comparison*"
   ]
  },
  {
   "cell_type": "code",
   "execution_count": 24,
   "metadata": {},
   "outputs": [
    {
     "data": {
      "text/html": [
       "<div>\n",
       "<style scoped>\n",
       "    .dataframe tbody tr th:only-of-type {\n",
       "        vertical-align: middle;\n",
       "    }\n",
       "\n",
       "    .dataframe tbody tr th {\n",
       "        vertical-align: top;\n",
       "    }\n",
       "\n",
       "    .dataframe thead th {\n",
       "        text-align: right;\n",
       "    }\n",
       "</style>\n",
       "<table border=\"1\" class=\"dataframe\">\n",
       "  <thead>\n",
       "    <tr style=\"text-align: right;\">\n",
       "      <th></th>\n",
       "      <th>VIOLATION DESCRIPTION</th>\n",
       "      <th>JANUARY</th>\n",
       "      <th>MARCH</th>\n",
       "      <th>APRIL</th>\n",
       "      <th>MAY</th>\n",
       "      <th>JUNE</th>\n",
       "      <th>JULY</th>\n",
       "      <th>AUGUST</th>\n",
       "      <th>SEPTEMBER</th>\n",
       "      <th>OCTOBER</th>\n",
       "      <th>NOVEMBER</th>\n",
       "      <th>DECEMBER</th>\n",
       "      <th>YEARLY TOTALS</th>\n",
       "      <th>PERCENT TO TOTAL VIOLATIONS</th>\n",
       "    </tr>\n",
       "  </thead>\n",
       "  <tbody>\n",
       "    <tr>\n",
       "      <th>0</th>\n",
       "      <td>SPEED 11-15 MPH OVER THE SPEED LIMIT</td>\n",
       "      <td>66246.0</td>\n",
       "      <td>73293.0</td>\n",
       "      <td>76465.0</td>\n",
       "      <td>75605.0</td>\n",
       "      <td>99232.0</td>\n",
       "      <td>108893.0</td>\n",
       "      <td>103765.0</td>\n",
       "      <td>67876.0</td>\n",
       "      <td>66086.0</td>\n",
       "      <td>62741.0</td>\n",
       "      <td>55544.0</td>\n",
       "      <td>855746.0</td>\n",
       "      <td>68.754389</td>\n",
       "    </tr>\n",
       "    <tr>\n",
       "      <th>1</th>\n",
       "      <td>SPEED 16-20 MPH OVER THE SPEED LIMIT</td>\n",
       "      <td>12060.0</td>\n",
       "      <td>12931.0</td>\n",
       "      <td>13334.0</td>\n",
       "      <td>13297.0</td>\n",
       "      <td>20866.0</td>\n",
       "      <td>26064.0</td>\n",
       "      <td>23112.0</td>\n",
       "      <td>14368.0</td>\n",
       "      <td>14122.0</td>\n",
       "      <td>14341.0</td>\n",
       "      <td>10342.0</td>\n",
       "      <td>174837.0</td>\n",
       "      <td>14.047172</td>\n",
       "    </tr>\n",
       "    <tr>\n",
       "      <th>2</th>\n",
       "      <td>FAIL TO STOP PER REGULATIONS FACING RED SIGNAL</td>\n",
       "      <td>4696.0</td>\n",
       "      <td>5073.0</td>\n",
       "      <td>5305.0</td>\n",
       "      <td>5737.0</td>\n",
       "      <td>5585.0</td>\n",
       "      <td>4713.0</td>\n",
       "      <td>4659.0</td>\n",
       "      <td>4534.0</td>\n",
       "      <td>4590.0</td>\n",
       "      <td>3989.0</td>\n",
       "      <td>3459.0</td>\n",
       "      <td>52340.0</td>\n",
       "      <td>4.205225</td>\n",
       "    </tr>\n",
       "    <tr>\n",
       "      <th>3</th>\n",
       "      <td>PASSING STOP SIGN WITHOUT COMING TO A FULL STOP</td>\n",
       "      <td>2590.0</td>\n",
       "      <td>2796.0</td>\n",
       "      <td>2837.0</td>\n",
       "      <td>4110.0</td>\n",
       "      <td>5205.0</td>\n",
       "      <td>7090.0</td>\n",
       "      <td>4882.0</td>\n",
       "      <td>5305.0</td>\n",
       "      <td>3293.0</td>\n",
       "      <td>2619.0</td>\n",
       "      <td>1622.0</td>\n",
       "      <td>42349.0</td>\n",
       "      <td>3.402504</td>\n",
       "    </tr>\n",
       "    <tr>\n",
       "      <th>4</th>\n",
       "      <td>SPEED 21-25 MPH OVER THE SPEED LIMIT</td>\n",
       "      <td>1949.0</td>\n",
       "      <td>2239.0</td>\n",
       "      <td>2274.0</td>\n",
       "      <td>2231.0</td>\n",
       "      <td>3678.0</td>\n",
       "      <td>5386.0</td>\n",
       "      <td>4538.0</td>\n",
       "      <td>2901.0</td>\n",
       "      <td>2761.0</td>\n",
       "      <td>3176.0</td>\n",
       "      <td>1792.0</td>\n",
       "      <td>32925.0</td>\n",
       "      <td>2.645339</td>\n",
       "    </tr>\n",
       "  </tbody>\n",
       "</table>\n",
       "</div>"
      ],
      "text/plain": [
       "                             VIOLATION DESCRIPTION  JANUARY    MARCH    APRIL  \\\n",
       "0             SPEED 11-15 MPH OVER THE SPEED LIMIT  66246.0  73293.0  76465.0   \n",
       "1             SPEED 16-20 MPH OVER THE SPEED LIMIT  12060.0  12931.0  13334.0   \n",
       "2   FAIL TO STOP PER REGULATIONS FACING RED SIGNAL   4696.0   5073.0   5305.0   \n",
       "3  PASSING STOP SIGN WITHOUT COMING TO A FULL STOP   2590.0   2796.0   2837.0   \n",
       "4             SPEED 21-25 MPH OVER THE SPEED LIMIT   1949.0   2239.0   2274.0   \n",
       "\n",
       "       MAY     JUNE      JULY    AUGUST  SEPTEMBER  OCTOBER  NOVEMBER  \\\n",
       "0  75605.0  99232.0  108893.0  103765.0    67876.0  66086.0   62741.0   \n",
       "1  13297.0  20866.0   26064.0   23112.0    14368.0  14122.0   14341.0   \n",
       "2   5737.0   5585.0    4713.0    4659.0     4534.0   4590.0    3989.0   \n",
       "3   4110.0   5205.0    7090.0    4882.0     5305.0   3293.0    2619.0   \n",
       "4   2231.0   3678.0    5386.0    4538.0     2901.0   2761.0    3176.0   \n",
       "\n",
       "   DECEMBER  YEARLY TOTALS  PERCENT TO TOTAL VIOLATIONS  \n",
       "0   55544.0       855746.0                    68.754389  \n",
       "1   10342.0       174837.0                    14.047172  \n",
       "2    3459.0        52340.0                     4.205225  \n",
       "3    1622.0        42349.0                     3.402504  \n",
       "4    1792.0        32925.0                     2.645339  "
      ]
     },
     "execution_count": 24,
     "metadata": {},
     "output_type": "execute_result"
    }
   ],
   "source": [
    "sorted_violation_count_per_month_for_the_year = violation_count_per_month_for_the_year.sort_values(['PERCENT TO TOTAL VIOLATIONS'], ascending=False)\n",
    "sorted_violation_count_per_month_for_the_year.reset_index(inplace=True)\n",
    "sorted_violation_count_per_month_for_the_year.head()"
   ]
  },
  {
   "cell_type": "markdown",
   "metadata": {},
   "source": [
    "### Line Chart showing the top 5 most issued violations by month for 2019"
   ]
  },
  {
   "cell_type": "code",
   "execution_count": 25,
   "metadata": {},
   "outputs": [
    {
     "data": {
      "image/png": "[encoded data removed]",
      "text/plain": [
       "<Figure size 1440x720 with 1 Axes>"
      ]
     },
     "metadata": {
      "needs_background": "light"
     },
     "output_type": "display_data"
    }
   ],
   "source": [
    "x_axis = ('January', 'March', 'April', 'May', 'June', 'July', 'August', 'September', 'October', 'November', 'December')\n",
    "x_axis\n",
    "\n",
    "speed_11_to_15 = [66246,73293,76465,75605,99232,72579,103765,67876,66086,62741,55544]\n",
    "speed_16_to_20 = [12060,12931,13334,13297,20866,21390,23112,14368,14122,14341,10342]\n",
    "fail_stop_red_signal = [4696,5073,5305,5737,5585,5033,4659,4534,4590,3989,3459]\n",
    "passing_stop_sign = [2595, 2795, 2837, 4111, 5205, 3800, 4882, 5305, 3293, 2619, 1622]\n",
    "speed_21_to_25 = [1949,2239,2274,2231,3678,3737,4538,2901,2761,3176,1972]\n",
    "\n",
    "plt.figure(figsize=(20, 10))\n",
    "\n",
    "first = plt.plot(x_axis, speed_11_to_15, linewidth=3, color='blue', label='Speeding 11-15 MPH Over the Speed Limit')\n",
    "second = plt.plot(x_axis, speed_16_to_20, linewidth=3, color='red', label='Speeding 16-20 MPH Over the Speed Limit')\n",
    "third = plt.plot(x_axis, fail_stop_red_signal, linewidth=3, color='purple', label='Failure to Stop Facing a Red Signal')\n",
    "fourth = plt.plot(x_axis, passing_stop_sign, linewidth=3, color='green', label='Passing a Stop Sign w/o Coming to a Full Stop')\n",
    "fifth = plt.plot(x_axis, speed_21_to_25, linewidth=3, color='orange', label='Speeding 21-25 MPH Over the Speed Limit')\n",
    "\n",
    "plt.legend(fontsize= 15, title='Violations', loc='upper right')\n",
    "plt.grid(color='#95a5a6', linestyle='--', linewidth=1, axis='y', alpha=0.5)\n",
    "plt.xlabel('Month', fontsize=14)\n",
    "plt.ylabel('Count', fontsize=14)\n",
    "plt.title('Monthly Count of Top 5 Violations Issued for 2019', fontsize=18)\n",
    "plt.show()"
   ]
  },
  {
   "cell_type": "markdown",
   "metadata": {},
   "source": [
    "### Create a Bar Chart showing the Top 10 violations issued for 2019"
   ]
  },
  {
   "cell_type": "code",
   "execution_count": 26,
   "metadata": {},
   "outputs": [
    {
     "data": {
      "text/plain": [
       "Text(0.5, 1.0, 'Top 5 Violations Issued During 2019')"
      ]
     },
     "execution_count": 26,
     "metadata": {},
     "output_type": "execute_result"
    },
    {
     "data": {
      "image/png": "[encoded data removed]",
      "text/plain": [
       "<Figure size 720x360 with 1 Axes>"
      ]
     },
     "metadata": {
      "needs_background": "light"
     },
     "output_type": "display_data"
    }
   ],
   "source": [
    "sorted_violation_count_per_month_for_the_year.head(5).plot(kind='barh', x='VIOLATION DESCRIPTION', y='YEARLY TOTALS', legend=False, color='green', edgecolor = 'black', figsize=(10,5), fontsize=11)\n",
    "plt.ylabel('Violation Description', fontsize=12)\n",
    "plt.xlabel('Number of Violations Issued', fontsize=12)\n",
    "plt.grid(color='#95a5a6', linestyle='--', linewidth=2, axis='x', alpha=0.5)\n",
    "plt.title('Top 5 Violations Issued During 2019', fontsize=14)"
   ]
  },
  {
   "cell_type": "markdown",
   "metadata": {},
   "source": [
    "# Total number of violations issued per agency for each month and the year"
   ]
  },
  {
   "cell_type": "code",
   "execution_count": 27,
   "metadata": {},
   "outputs": [
    {
     "data": {
      "text/plain": [
       "LOCATION    84866\n",
       "Name: DC 295 .4mi s/o PA Ave SE sw/b (WZ), dtype: int64"
      ]
     },
     "execution_count": 27,
     "metadata": {},
     "output_type": "execute_result"
    }
   ],
   "source": [
    "# Gene's Code \n",
    "# From the location column what area issues the most violations (Are more violations issued in a particular area of the city?)\n",
    "area_issues_most = clean_twozeroonenine_df['LOCATION'].value_counts()\n",
    "\n",
    "df_area=pd.DataFrame(area_issues_most)\n",
    "max_area = df_area.iloc[0]\n",
    "max_area"
   ]
  },
  {
   "cell_type": "code",
   "execution_count": 28,
   "metadata": {},
   "outputs": [
    {
     "data": {
      "text/html": [
       "<div>\n",
       "<style scoped>\n",
       "    .dataframe tbody tr th:only-of-type {\n",
       "        vertical-align: middle;\n",
       "    }\n",
       "\n",
       "    .dataframe tbody tr th {\n",
       "        vertical-align: top;\n",
       "    }\n",
       "\n",
       "    .dataframe thead th {\n",
       "        text-align: right;\n",
       "    }\n",
       "</style>\n",
       "<table border=\"1\" class=\"dataframe\">\n",
       "  <thead>\n",
       "    <tr style=\"text-align: right;\">\n",
       "      <th></th>\n",
       "      <th>LOCATION</th>\n",
       "    </tr>\n",
       "  </thead>\n",
       "  <tbody>\n",
       "    <tr>\n",
       "      <th>DC 295 .4mi s/o PA Ave SE sw/b (WZ)</th>\n",
       "      <td>84866</td>\n",
       "    </tr>\n",
       "    <tr>\n",
       "      <th>DC295 SW .2 miles s/o E/1 n/b (WZ)</th>\n",
       "      <td>72814</td>\n",
       "    </tr>\n",
       "    <tr>\n",
       "      <th>600 blk Kenilworth Ave NE s/b</th>\n",
       "      <td>64304</td>\n",
       "    </tr>\n",
       "    <tr>\n",
       "      <th>2200 block K St NW e/b</th>\n",
       "      <td>42775</td>\n",
       "    </tr>\n",
       "    <tr>\n",
       "      <th>2200 blk K St NW w/b</th>\n",
       "      <td>38693</td>\n",
       "    </tr>\n",
       "    <tr>\n",
       "      <th>100 blk Michigan Ave NW e/b</th>\n",
       "      <td>28383</td>\n",
       "    </tr>\n",
       "    <tr>\n",
       "      <th>600 blk New York Avenue NE w/b</th>\n",
       "      <td>26606</td>\n",
       "    </tr>\n",
       "    <tr>\n",
       "      <th>2200 blk South Dakota Ave NE se/b</th>\n",
       "      <td>25903</td>\n",
       "    </tr>\n",
       "    <tr>\n",
       "      <th>3700 blk Southern Ave SE sw/b</th>\n",
       "      <td>23575</td>\n",
       "    </tr>\n",
       "    <tr>\n",
       "      <th>2500 BLK INDEPENDENCE AVE SE NE/B</th>\n",
       "      <td>21371</td>\n",
       "    </tr>\n",
       "  </tbody>\n",
       "</table>\n",
       "</div>"
      ],
      "text/plain": [
       "                                     LOCATION\n",
       "DC 295 .4mi s/o PA Ave SE sw/b (WZ)     84866\n",
       "DC295 SW .2 miles s/o E/1 n/b (WZ)      72814\n",
       "600 blk Kenilworth Ave NE s/b           64304\n",
       "2200 block K St NW e/b                  42775\n",
       "2200 blk K St NW w/b                    38693\n",
       "100 blk Michigan Ave NW e/b             28383\n",
       "600 blk New York Avenue NE w/b          26606\n",
       "2200 blk South Dakota Ave NE se/b       25903\n",
       "3700 blk Southern Ave SE sw/b           23575\n",
       "2500 BLK INDEPENDENCE AVE SE NE/B       21371"
      ]
     },
     "execution_count": 28,
     "metadata": {},
     "output_type": "execute_result"
    }
   ],
   "source": [
    "df_area.head(10)"
   ]
  },
  {
   "cell_type": "code",
   "execution_count": 29,
   "metadata": {},
   "outputs": [
    {
     "data": {
      "text/plain": [
       "LOCATION    1\n",
       "Name: BLOCK 1600 BENNING RD SE, dtype: int64"
      ]
     },
     "execution_count": 29,
     "metadata": {},
     "output_type": "execute_result"
    }
   ],
   "source": [
    "# Gene's Code \n",
    "# From the location column what area issues the least violations (Are more violations issued in a particular area of the city?)\n",
    "min_area = df_area.iloc[-1]\n",
    "min_area"
   ]
  },
  {
   "cell_type": "markdown",
   "metadata": {},
   "source": [
    "### Determine the violation count for each division for 2019\n",
    "* Groupby 'ISSUING_AGENCY_NAME' and count the number of 'OBJECTID' for each\n",
    "* Reset the index so that 'ISSUING_AGENCY_NAME' becomes a column\n",
    "* Rename 'ISSUING_AGENCY_NAME' to 'AGENCY' and 'OBJECTID' to 'COUNT'\n",
    "* Sort the 'COUNT' by decending order"
   ]
  },
  {
   "cell_type": "code",
   "execution_count": 30,
   "metadata": {},
   "outputs": [
    {
     "data": {
      "text/html": [
       "<div>\n",
       "<style scoped>\n",
       "    .dataframe tbody tr th:only-of-type {\n",
       "        vertical-align: middle;\n",
       "    }\n",
       "\n",
       "    .dataframe tbody tr th {\n",
       "        vertical-align: top;\n",
       "    }\n",
       "\n",
       "    .dataframe thead th {\n",
       "        text-align: right;\n",
       "    }\n",
       "</style>\n",
       "<table border=\"1\" class=\"dataframe\">\n",
       "  <thead>\n",
       "    <tr style=\"text-align: right;\">\n",
       "      <th></th>\n",
       "      <th>AGENCY</th>\n",
       "      <th>VIOLATIONS ISSUED</th>\n",
       "    </tr>\n",
       "  </thead>\n",
       "  <tbody>\n",
       "    <tr>\n",
       "      <th>29</th>\n",
       "      <td>SPECIAL OPERATION DIV &amp; TRAFFIC DIV</td>\n",
       "      <td>1172024</td>\n",
       "    </tr>\n",
       "    <tr>\n",
       "      <th>14</th>\n",
       "      <td>METROPOLITAN POLICE DPT-DISTRICT 2</td>\n",
       "      <td>16260</td>\n",
       "    </tr>\n",
       "    <tr>\n",
       "      <th>13</th>\n",
       "      <td>METROPOLITAN POLICE DPT-DISTRICT 1</td>\n",
       "      <td>11217</td>\n",
       "    </tr>\n",
       "    <tr>\n",
       "      <th>15</th>\n",
       "      <td>METROPOLITAN POLICE DPT-DISTRICT 3</td>\n",
       "      <td>10483</td>\n",
       "    </tr>\n",
       "    <tr>\n",
       "      <th>18</th>\n",
       "      <td>METROPOLITAN POLICE DPT-DISTRICT 6</td>\n",
       "      <td>10140</td>\n",
       "    </tr>\n",
       "  </tbody>\n",
       "</table>\n",
       "</div>"
      ],
      "text/plain": [
       "                                 AGENCY  VIOLATIONS ISSUED\n",
       "29  SPECIAL OPERATION DIV & TRAFFIC DIV            1172024\n",
       "14   METROPOLITAN POLICE DPT-DISTRICT 2              16260\n",
       "13   METROPOLITAN POLICE DPT-DISTRICT 1              11217\n",
       "15   METROPOLITAN POLICE DPT-DISTRICT 3              10483\n",
       "18   METROPOLITAN POLICE DPT-DISTRICT 6              10140"
      ]
     },
     "execution_count": 30,
     "metadata": {},
     "output_type": "execute_result"
    }
   ],
   "source": [
    "# Gene's Code\n",
    "agency_counts = clean_twozeroonenine_df.groupby('ISSUING_AGENCY_NAME').count()[['OBJECTID']]\n",
    "agency_counts.reset_index(inplace=True)\n",
    "agency_counts= agency_counts.rename(columns = {'ISSUING_AGENCY_NAME':'AGENCY', 'OBJECTID': 'VIOLATIONS ISSUED'})\n",
    "top_five_agencies = agency_counts.sort_values(['VIOLATIONS ISSUED'], ascending=False).head()\n",
    "top_five_agencies"
   ]
  },
  {
   "cell_type": "markdown",
   "metadata": {},
   "source": [
    "### Add a chart (Pie) showing 5 ten agencies and their respective violation counts"
   ]
  },
  {
   "cell_type": "code",
   "execution_count": 31,
   "metadata": {},
   "outputs": [
    {
     "data": {
      "text/plain": [
       "<matplotlib.legend.Legend at 0x23a179c6e80>"
      ]
     },
     "execution_count": 31,
     "metadata": {},
     "output_type": "execute_result"
    },
    {
     "data": {
      "image/png": "[encoded data removed]",
      "text/plain": [
       "<Figure size 1200x1200 with 1 Axes>"
      ]
     },
     "metadata": {},
     "output_type": "display_data"
    }
   ],
   "source": [
    "violations = [1124348, 17177, 11997, 10857, 10774]\n",
    "colors = ['red', 'blue', 'yellow', 'green', 'orange']\n",
    "explode = (0.5, 0, 0, 0, 0)\n",
    "plt.figure(figsize=(15,15), dpi=80)\n",
    "plt.pie(violations, explode=explode, shadow=True, colors=colors, autopct='%1.1f%%')\n",
    "plt.legend(labels=['Special Operation Div & Traffic Div', 'Metro Police- District 2', 'Metro Police- District 1', 'Metro Police- Distric 3', 'Metro Police- District 6'],loc='upper right', fontsize=15)\n",
    "\n"
   ]
  },
  {
   "cell_type": "code",
   "execution_count": 32,
   "metadata": {},
   "outputs": [
    {
     "data": {
      "text/plain": [
       "1244642"
      ]
     },
     "execution_count": 32,
     "metadata": {},
     "output_type": "execute_result"
    }
   ],
   "source": [
    "agency_total = agency_counts['VIOLATIONS ISSUED'].sum()\n",
    "agency_total"
   ]
  },
  {
   "cell_type": "markdown",
   "metadata": {},
   "source": [
    "# Total count of violations broken down by weekday for 2019"
   ]
  },
  {
   "cell_type": "markdown",
   "metadata": {},
   "source": [
    "### Print the combined, clean DataFrame for reference"
   ]
  },
  {
   "cell_type": "code",
   "execution_count": 33,
   "metadata": {},
   "outputs": [
    {
     "data": {
      "text/html": [
       "<div>\n",
       "<style scoped>\n",
       "    .dataframe tbody tr th:only-of-type {\n",
       "        vertical-align: middle;\n",
       "    }\n",
       "\n",
       "    .dataframe tbody tr th {\n",
       "        vertical-align: top;\n",
       "    }\n",
       "\n",
       "    .dataframe thead th {\n",
       "        text-align: right;\n",
       "    }\n",
       "</style>\n",
       "<table border=\"1\" class=\"dataframe\">\n",
       "  <thead>\n",
       "    <tr style=\"text-align: right;\">\n",
       "      <th></th>\n",
       "      <th>OBJECTID</th>\n",
       "      <th>LOCATION</th>\n",
       "      <th>ISSUE_DATE</th>\n",
       "      <th>ISSUE_TIME</th>\n",
       "      <th>ISSUING_AGENCY_NAME</th>\n",
       "      <th>ISSUING_AGENCY_SHORT</th>\n",
       "      <th>VIOLATION_CODE</th>\n",
       "      <th>VIOLATION_PROCESS_DESC</th>\n",
       "      <th>PLATE_STATE</th>\n",
       "      <th>ACCIDENT_INDICATOR</th>\n",
       "      <th>FINE_AMOUNT</th>\n",
       "      <th>DRV_LIC_STATE</th>\n",
       "      <th>DOB_YEAR</th>\n",
       "      <th>VEH_MAKE</th>\n",
       "    </tr>\n",
       "  </thead>\n",
       "  <tbody>\n",
       "    <tr>\n",
       "      <th>0</th>\n",
       "      <td>8730</td>\n",
       "      <td>1400 BRANCH AVE SE</td>\n",
       "      <td>2019/04/29 04:00:00+00</td>\n",
       "      <td>1:30:00</td>\n",
       "      <td>METROPOLITAN POLICE DPT-DISTRICT 6</td>\n",
       "      <td>MPD-6D</td>\n",
       "      <td>T043</td>\n",
       "      <td>FOLLOW A VEHICLE TOO CLOSELY</td>\n",
       "      <td>DC</td>\n",
       "      <td>N</td>\n",
       "      <td>100.0</td>\n",
       "      <td>DC</td>\n",
       "      <td>1985.0</td>\n",
       "      <td>CHRY</td>\n",
       "    </tr>\n",
       "    <tr>\n",
       "      <th>1</th>\n",
       "      <td>8731</td>\n",
       "      <td>I-295 ANACOSTIA FWY</td>\n",
       "      <td>2019/04/01 04:00:00+00</td>\n",
       "      <td>9:55:00</td>\n",
       "      <td>METROPOLITAN POLICE DPT-DISTRICT 6</td>\n",
       "      <td>MPD-6D</td>\n",
       "      <td>T043</td>\n",
       "      <td>FOLLOW A VEHICLE TOO CLOSELY</td>\n",
       "      <td>DC</td>\n",
       "      <td>N</td>\n",
       "      <td>75.0</td>\n",
       "      <td>DC</td>\n",
       "      <td>1972.0</td>\n",
       "      <td>HOND</td>\n",
       "    </tr>\n",
       "    <tr>\n",
       "      <th>2</th>\n",
       "      <td>10053</td>\n",
       "      <td>I 395 N/B HOV BRIDGE SW</td>\n",
       "      <td>2019/04/18 04:00:00+00</td>\n",
       "      <td>4:20:00</td>\n",
       "      <td>METROPOLITAN POLICE DPT-DISTRICT 1</td>\n",
       "      <td>MPD-1D</td>\n",
       "      <td>T335</td>\n",
       "      <td>FAIL TO CONTROL VEHICLE SPEED TO AVOID COLLIDING</td>\n",
       "      <td>VA</td>\n",
       "      <td>Y</td>\n",
       "      <td>100.0</td>\n",
       "      <td>VA</td>\n",
       "      <td>1987.0</td>\n",
       "      <td>MAZD</td>\n",
       "    </tr>\n",
       "    <tr>\n",
       "      <th>3</th>\n",
       "      <td>10054</td>\n",
       "      <td>1000 6TH ST NW</td>\n",
       "      <td>2019/04/23 04:00:00+00</td>\n",
       "      <td>3:00:00</td>\n",
       "      <td>METROPOLITAN POLICE DPT-DISTRICT 1</td>\n",
       "      <td>MPD-1D</td>\n",
       "      <td>T335</td>\n",
       "      <td>FAIL TO CONTROL VEHICLE SPEED TO AVOID COLLIDING</td>\n",
       "      <td>DC</td>\n",
       "      <td>Y</td>\n",
       "      <td>150.0</td>\n",
       "      <td>DC</td>\n",
       "      <td>1993.0</td>\n",
       "      <td>TOYO</td>\n",
       "    </tr>\n",
       "    <tr>\n",
       "      <th>4</th>\n",
       "      <td>10055</td>\n",
       "      <td>1000 6TH ST NW</td>\n",
       "      <td>2019/04/23 04:00:00+00</td>\n",
       "      <td>3:00:00</td>\n",
       "      <td>METROPOLITAN POLICE DPT-DISTRICT 1</td>\n",
       "      <td>MPD-1D</td>\n",
       "      <td>T667</td>\n",
       "      <td>DEAD OR EXPIRED TAGS</td>\n",
       "      <td>DC</td>\n",
       "      <td>Y</td>\n",
       "      <td>100.0</td>\n",
       "      <td>DC</td>\n",
       "      <td>1993.0</td>\n",
       "      <td>TOYO</td>\n",
       "    </tr>\n",
       "  </tbody>\n",
       "</table>\n",
       "</div>"
      ],
      "text/plain": [
       "   OBJECTID                 LOCATION              ISSUE_DATE ISSUE_TIME  \\\n",
       "0      8730       1400 BRANCH AVE SE  2019/04/29 04:00:00+00    1:30:00   \n",
       "1      8731      I-295 ANACOSTIA FWY  2019/04/01 04:00:00+00    9:55:00   \n",
       "2     10053  I 395 N/B HOV BRIDGE SW  2019/04/18 04:00:00+00    4:20:00   \n",
       "3     10054           1000 6TH ST NW  2019/04/23 04:00:00+00    3:00:00   \n",
       "4     10055           1000 6TH ST NW  2019/04/23 04:00:00+00    3:00:00   \n",
       "\n",
       "                  ISSUING_AGENCY_NAME ISSUING_AGENCY_SHORT VIOLATION_CODE  \\\n",
       "0  METROPOLITAN POLICE DPT-DISTRICT 6               MPD-6D           T043   \n",
       "1  METROPOLITAN POLICE DPT-DISTRICT 6               MPD-6D           T043   \n",
       "2  METROPOLITAN POLICE DPT-DISTRICT 1               MPD-1D           T335   \n",
       "3  METROPOLITAN POLICE DPT-DISTRICT 1               MPD-1D           T335   \n",
       "4  METROPOLITAN POLICE DPT-DISTRICT 1               MPD-1D           T667   \n",
       "\n",
       "                             VIOLATION_PROCESS_DESC PLATE_STATE  \\\n",
       "0                      FOLLOW A VEHICLE TOO CLOSELY          DC   \n",
       "1                      FOLLOW A VEHICLE TOO CLOSELY          DC   \n",
       "2  FAIL TO CONTROL VEHICLE SPEED TO AVOID COLLIDING          VA   \n",
       "3  FAIL TO CONTROL VEHICLE SPEED TO AVOID COLLIDING          DC   \n",
       "4                              DEAD OR EXPIRED TAGS          DC   \n",
       "\n",
       "  ACCIDENT_INDICATOR  FINE_AMOUNT DRV_LIC_STATE  DOB_YEAR VEH_MAKE  \n",
       "0                  N        100.0            DC    1985.0     CHRY  \n",
       "1                  N         75.0            DC    1972.0     HOND  \n",
       "2                  Y        100.0            VA    1987.0     MAZD  \n",
       "3                  Y        150.0            DC    1993.0     TOYO  \n",
       "4                  Y        100.0            DC    1993.0     TOYO  "
      ]
     },
     "execution_count": 33,
     "metadata": {},
     "output_type": "execute_result"
    }
   ],
   "source": [
    "clean_twozeroonenine_df.head()"
   ]
  },
  {
   "cell_type": "markdown",
   "metadata": {},
   "source": [
    "### Here we used pd.date_range to assigne a number to each day of the week\n",
    "* Monday = 0 to Sunday = 6"
   ]
  },
  {
   "cell_type": "code",
   "execution_count": 34,
   "metadata": {},
   "outputs": [
    {
     "data": {
      "text/plain": [
       "2019-01-01 04:00:00+00:00    1\n",
       "2019-01-02 04:00:00+00:00    2\n",
       "2019-01-03 04:00:00+00:00    3\n",
       "2019-01-04 04:00:00+00:00    4\n",
       "2019-01-05 04:00:00+00:00    5\n",
       "                            ..\n",
       "2019-12-27 04:00:00+00:00    4\n",
       "2019-12-28 04:00:00+00:00    5\n",
       "2019-12-29 04:00:00+00:00    6\n",
       "2019-12-30 04:00:00+00:00    0\n",
       "2019-12-31 04:00:00+00:00    1\n",
       "Freq: D, Length: 365, dtype: int64"
      ]
     },
     "execution_count": 34,
     "metadata": {},
     "output_type": "execute_result"
    }
   ],
   "source": [
    "s = pd.date_range('2019/01/01 04:00:00+00', '2019/12/31 04:00:00+00', freq= 'D').to_series()\n",
    "s.dt.dayofweek\n",
    "     "
   ]
  },
  {
   "cell_type": "markdown",
   "metadata": {},
   "source": [
    "### Assign each number 0 - 6 to the corresponding day of the week Monday-Sunday\n",
    "* Not sure what 'clean_twozeroonenine_df['ISSUE_DATE']= pd.to_datetime(clean_twozeroonenine_df['ISSUE_DATE'])' does\n",
    "* Last line adds a column called 'Day of the Week?"
   ]
  },
  {
   "cell_type": "code",
   "execution_count": 35,
   "metadata": {},
   "outputs": [
    {
     "name": "stderr",
     "output_type": "stream",
     "text": [
      "<ipython-input-35-e1f476d43b5e>:4: SettingWithCopyWarning: \n",
      "A value is trying to be set on a copy of a slice from a DataFrame.\n",
      "Try using .loc[row_indexer,col_indexer] = value instead\n",
      "\n",
      "See the caveats in the documentation: https://pandas.pydata.org/pandas-docs/stable/user_guide/indexing.html#returning-a-view-versus-a-copy\n",
      "  clean_twozeroonenine_df['ISSUE_DATE']= pd.to_datetime(clean_twozeroonenine_df['ISSUE_DATE'])\n",
      "<ipython-input-35-e1f476d43b5e>:5: SettingWithCopyWarning: \n",
      "A value is trying to be set on a copy of a slice from a DataFrame.\n",
      "Try using .loc[row_indexer,col_indexer] = value instead\n",
      "\n",
      "See the caveats in the documentation: https://pandas.pydata.org/pandas-docs/stable/user_guide/indexing.html#returning-a-view-versus-a-copy\n",
      "  clean_twozeroonenine_df['DAY_OF_THE_WEEK'] = clean_twozeroonenine_df['ISSUE_DATE'].dt.day_name()\n"
     ]
    },
    {
     "data": {
      "text/html": [
       "<div>\n",
       "<style scoped>\n",
       "    .dataframe tbody tr th:only-of-type {\n",
       "        vertical-align: middle;\n",
       "    }\n",
       "\n",
       "    .dataframe tbody tr th {\n",
       "        vertical-align: top;\n",
       "    }\n",
       "\n",
       "    .dataframe thead th {\n",
       "        text-align: right;\n",
       "    }\n",
       "</style>\n",
       "<table border=\"1\" class=\"dataframe\">\n",
       "  <thead>\n",
       "    <tr style=\"text-align: right;\">\n",
       "      <th></th>\n",
       "      <th>OBJECTID</th>\n",
       "      <th>LOCATION</th>\n",
       "      <th>ISSUE_DATE</th>\n",
       "      <th>ISSUE_TIME</th>\n",
       "      <th>ISSUING_AGENCY_NAME</th>\n",
       "      <th>ISSUING_AGENCY_SHORT</th>\n",
       "      <th>VIOLATION_CODE</th>\n",
       "      <th>VIOLATION_PROCESS_DESC</th>\n",
       "      <th>PLATE_STATE</th>\n",
       "      <th>ACCIDENT_INDICATOR</th>\n",
       "      <th>FINE_AMOUNT</th>\n",
       "      <th>DRV_LIC_STATE</th>\n",
       "      <th>DOB_YEAR</th>\n",
       "      <th>VEH_MAKE</th>\n",
       "      <th>DAY_OF_THE_WEEK</th>\n",
       "    </tr>\n",
       "  </thead>\n",
       "  <tbody>\n",
       "    <tr>\n",
       "      <th>0</th>\n",
       "      <td>8730</td>\n",
       "      <td>1400 BRANCH AVE SE</td>\n",
       "      <td>2019-04-29 04:00:00+00:00</td>\n",
       "      <td>1:30:00</td>\n",
       "      <td>METROPOLITAN POLICE DPT-DISTRICT 6</td>\n",
       "      <td>MPD-6D</td>\n",
       "      <td>T043</td>\n",
       "      <td>FOLLOW A VEHICLE TOO CLOSELY</td>\n",
       "      <td>DC</td>\n",
       "      <td>N</td>\n",
       "      <td>100.0</td>\n",
       "      <td>DC</td>\n",
       "      <td>1985.0</td>\n",
       "      <td>CHRY</td>\n",
       "      <td>Monday</td>\n",
       "    </tr>\n",
       "    <tr>\n",
       "      <th>1</th>\n",
       "      <td>8731</td>\n",
       "      <td>I-295 ANACOSTIA FWY</td>\n",
       "      <td>2019-04-01 04:00:00+00:00</td>\n",
       "      <td>9:55:00</td>\n",
       "      <td>METROPOLITAN POLICE DPT-DISTRICT 6</td>\n",
       "      <td>MPD-6D</td>\n",
       "      <td>T043</td>\n",
       "      <td>FOLLOW A VEHICLE TOO CLOSELY</td>\n",
       "      <td>DC</td>\n",
       "      <td>N</td>\n",
       "      <td>75.0</td>\n",
       "      <td>DC</td>\n",
       "      <td>1972.0</td>\n",
       "      <td>HOND</td>\n",
       "      <td>Monday</td>\n",
       "    </tr>\n",
       "    <tr>\n",
       "      <th>2</th>\n",
       "      <td>10053</td>\n",
       "      <td>I 395 N/B HOV BRIDGE SW</td>\n",
       "      <td>2019-04-18 04:00:00+00:00</td>\n",
       "      <td>4:20:00</td>\n",
       "      <td>METROPOLITAN POLICE DPT-DISTRICT 1</td>\n",
       "      <td>MPD-1D</td>\n",
       "      <td>T335</td>\n",
       "      <td>FAIL TO CONTROL VEHICLE SPEED TO AVOID COLLIDING</td>\n",
       "      <td>VA</td>\n",
       "      <td>Y</td>\n",
       "      <td>100.0</td>\n",
       "      <td>VA</td>\n",
       "      <td>1987.0</td>\n",
       "      <td>MAZD</td>\n",
       "      <td>Thursday</td>\n",
       "    </tr>\n",
       "    <tr>\n",
       "      <th>3</th>\n",
       "      <td>10054</td>\n",
       "      <td>1000 6TH ST NW</td>\n",
       "      <td>2019-04-23 04:00:00+00:00</td>\n",
       "      <td>3:00:00</td>\n",
       "      <td>METROPOLITAN POLICE DPT-DISTRICT 1</td>\n",
       "      <td>MPD-1D</td>\n",
       "      <td>T335</td>\n",
       "      <td>FAIL TO CONTROL VEHICLE SPEED TO AVOID COLLIDING</td>\n",
       "      <td>DC</td>\n",
       "      <td>Y</td>\n",
       "      <td>150.0</td>\n",
       "      <td>DC</td>\n",
       "      <td>1993.0</td>\n",
       "      <td>TOYO</td>\n",
       "      <td>Tuesday</td>\n",
       "    </tr>\n",
       "    <tr>\n",
       "      <th>4</th>\n",
       "      <td>10055</td>\n",
       "      <td>1000 6TH ST NW</td>\n",
       "      <td>2019-04-23 04:00:00+00:00</td>\n",
       "      <td>3:00:00</td>\n",
       "      <td>METROPOLITAN POLICE DPT-DISTRICT 1</td>\n",
       "      <td>MPD-1D</td>\n",
       "      <td>T667</td>\n",
       "      <td>DEAD OR EXPIRED TAGS</td>\n",
       "      <td>DC</td>\n",
       "      <td>Y</td>\n",
       "      <td>100.0</td>\n",
       "      <td>DC</td>\n",
       "      <td>1993.0</td>\n",
       "      <td>TOYO</td>\n",
       "      <td>Tuesday</td>\n",
       "    </tr>\n",
       "    <tr>\n",
       "      <th>...</th>\n",
       "      <td>...</td>\n",
       "      <td>...</td>\n",
       "      <td>...</td>\n",
       "      <td>...</td>\n",
       "      <td>...</td>\n",
       "      <td>...</td>\n",
       "      <td>...</td>\n",
       "      <td>...</td>\n",
       "      <td>...</td>\n",
       "      <td>...</td>\n",
       "      <td>...</td>\n",
       "      <td>...</td>\n",
       "      <td>...</td>\n",
       "      <td>...</td>\n",
       "      <td>...</td>\n",
       "    </tr>\n",
       "    <tr>\n",
       "      <th>1244637</th>\n",
       "      <td>9187235</td>\n",
       "      <td>E Capitol St e/b @ Texas Ave SE</td>\n",
       "      <td>2019-09-29 04:00:00+00:00</td>\n",
       "      <td>2:46:00</td>\n",
       "      <td>SPECIAL OPERATION DIV &amp; TRAFFIC DIV</td>\n",
       "      <td>MPD-SOD</td>\n",
       "      <td>T119</td>\n",
       "      <td>SPEED 11-15 MPH OVER THE SPEED LIMIT</td>\n",
       "      <td></td>\n",
       "      <td>NaN</td>\n",
       "      <td>100.0</td>\n",
       "      <td>NaN</td>\n",
       "      <td>NaN</td>\n",
       "      <td>RAM</td>\n",
       "      <td>Sunday</td>\n",
       "    </tr>\n",
       "    <tr>\n",
       "      <th>1244638</th>\n",
       "      <td>9187236</td>\n",
       "      <td>E Capitol St e/b @ Texas Ave SE</td>\n",
       "      <td>2019-09-29 04:00:00+00:00</td>\n",
       "      <td>2:59:00</td>\n",
       "      <td>SPECIAL OPERATION DIV &amp; TRAFFIC DIV</td>\n",
       "      <td>MPD-SOD</td>\n",
       "      <td>T121</td>\n",
       "      <td>SPEED 21-25 MPH OVER THE SPEED LIMIT</td>\n",
       "      <td></td>\n",
       "      <td>NaN</td>\n",
       "      <td>200.0</td>\n",
       "      <td>NaN</td>\n",
       "      <td>NaN</td>\n",
       "      <td>HOND</td>\n",
       "      <td>Sunday</td>\n",
       "    </tr>\n",
       "    <tr>\n",
       "      <th>1244639</th>\n",
       "      <td>9187237</td>\n",
       "      <td>E Capitol St e/b @ Texas Ave SE</td>\n",
       "      <td>2019-09-29 04:00:00+00:00</td>\n",
       "      <td>3:49:00</td>\n",
       "      <td>SPECIAL OPERATION DIV &amp; TRAFFIC DIV</td>\n",
       "      <td>MPD-SOD</td>\n",
       "      <td>T119</td>\n",
       "      <td>SPEED 11-15 MPH OVER THE SPEED LIMIT</td>\n",
       "      <td></td>\n",
       "      <td>NaN</td>\n",
       "      <td>100.0</td>\n",
       "      <td>NaN</td>\n",
       "      <td>NaN</td>\n",
       "      <td>ACUR</td>\n",
       "      <td>Sunday</td>\n",
       "    </tr>\n",
       "    <tr>\n",
       "      <th>1244640</th>\n",
       "      <td>9187238</td>\n",
       "      <td>E Capitol St e/b @ Texas Ave SE</td>\n",
       "      <td>2019-09-29 04:00:00+00:00</td>\n",
       "      <td>4:49:00</td>\n",
       "      <td>SPECIAL OPERATION DIV &amp; TRAFFIC DIV</td>\n",
       "      <td>MPD-SOD</td>\n",
       "      <td>T119</td>\n",
       "      <td>SPEED 11-15 MPH OVER THE SPEED LIMIT</td>\n",
       "      <td></td>\n",
       "      <td>NaN</td>\n",
       "      <td>100.0</td>\n",
       "      <td>DC</td>\n",
       "      <td>1965.0</td>\n",
       "      <td>HOND</td>\n",
       "      <td>Sunday</td>\n",
       "    </tr>\n",
       "    <tr>\n",
       "      <th>1244641</th>\n",
       "      <td>9187239</td>\n",
       "      <td>E Capitol St e/b @ Texas Ave SE</td>\n",
       "      <td>2019-09-30 04:00:00+00:00</td>\n",
       "      <td>8:40:00</td>\n",
       "      <td>SPECIAL OPERATION DIV &amp; TRAFFIC DIV</td>\n",
       "      <td>MPD-SOD</td>\n",
       "      <td>T119</td>\n",
       "      <td>SPEED 11-15 MPH OVER THE SPEED LIMIT</td>\n",
       "      <td></td>\n",
       "      <td>NaN</td>\n",
       "      <td>100.0</td>\n",
       "      <td>NaN</td>\n",
       "      <td>NaN</td>\n",
       "      <td>NISS</td>\n",
       "      <td>Monday</td>\n",
       "    </tr>\n",
       "  </tbody>\n",
       "</table>\n",
       "<p>1244642 rows × 15 columns</p>\n",
       "</div>"
      ],
      "text/plain": [
       "         OBJECTID                         LOCATION                ISSUE_DATE  \\\n",
       "0            8730               1400 BRANCH AVE SE 2019-04-29 04:00:00+00:00   \n",
       "1            8731              I-295 ANACOSTIA FWY 2019-04-01 04:00:00+00:00   \n",
       "2           10053          I 395 N/B HOV BRIDGE SW 2019-04-18 04:00:00+00:00   \n",
       "3           10054                   1000 6TH ST NW 2019-04-23 04:00:00+00:00   \n",
       "4           10055                   1000 6TH ST NW 2019-04-23 04:00:00+00:00   \n",
       "...           ...                              ...                       ...   \n",
       "1244637   9187235  E Capitol St e/b @ Texas Ave SE 2019-09-29 04:00:00+00:00   \n",
       "1244638   9187236  E Capitol St e/b @ Texas Ave SE 2019-09-29 04:00:00+00:00   \n",
       "1244639   9187237  E Capitol St e/b @ Texas Ave SE 2019-09-29 04:00:00+00:00   \n",
       "1244640   9187238  E Capitol St e/b @ Texas Ave SE 2019-09-29 04:00:00+00:00   \n",
       "1244641   9187239  E Capitol St e/b @ Texas Ave SE 2019-09-30 04:00:00+00:00   \n",
       "\n",
       "        ISSUE_TIME                  ISSUING_AGENCY_NAME ISSUING_AGENCY_SHORT  \\\n",
       "0          1:30:00   METROPOLITAN POLICE DPT-DISTRICT 6               MPD-6D   \n",
       "1          9:55:00   METROPOLITAN POLICE DPT-DISTRICT 6               MPD-6D   \n",
       "2          4:20:00   METROPOLITAN POLICE DPT-DISTRICT 1               MPD-1D   \n",
       "3          3:00:00   METROPOLITAN POLICE DPT-DISTRICT 1               MPD-1D   \n",
       "4          3:00:00   METROPOLITAN POLICE DPT-DISTRICT 1               MPD-1D   \n",
       "...            ...                                  ...                  ...   \n",
       "1244637    2:46:00  SPECIAL OPERATION DIV & TRAFFIC DIV              MPD-SOD   \n",
       "1244638    2:59:00  SPECIAL OPERATION DIV & TRAFFIC DIV              MPD-SOD   \n",
       "1244639    3:49:00  SPECIAL OPERATION DIV & TRAFFIC DIV              MPD-SOD   \n",
       "1244640    4:49:00  SPECIAL OPERATION DIV & TRAFFIC DIV              MPD-SOD   \n",
       "1244641    8:40:00  SPECIAL OPERATION DIV & TRAFFIC DIV              MPD-SOD   \n",
       "\n",
       "        VIOLATION_CODE                            VIOLATION_PROCESS_DESC  \\\n",
       "0                 T043                      FOLLOW A VEHICLE TOO CLOSELY   \n",
       "1                 T043                      FOLLOW A VEHICLE TOO CLOSELY   \n",
       "2                 T335  FAIL TO CONTROL VEHICLE SPEED TO AVOID COLLIDING   \n",
       "3                 T335  FAIL TO CONTROL VEHICLE SPEED TO AVOID COLLIDING   \n",
       "4                 T667                              DEAD OR EXPIRED TAGS   \n",
       "...                ...                                               ...   \n",
       "1244637           T119              SPEED 11-15 MPH OVER THE SPEED LIMIT   \n",
       "1244638           T121              SPEED 21-25 MPH OVER THE SPEED LIMIT   \n",
       "1244639           T119              SPEED 11-15 MPH OVER THE SPEED LIMIT   \n",
       "1244640           T119              SPEED 11-15 MPH OVER THE SPEED LIMIT   \n",
       "1244641           T119              SPEED 11-15 MPH OVER THE SPEED LIMIT   \n",
       "\n",
       "        PLATE_STATE ACCIDENT_INDICATOR  FINE_AMOUNT DRV_LIC_STATE  DOB_YEAR  \\\n",
       "0                DC                  N        100.0            DC    1985.0   \n",
       "1                DC                  N         75.0            DC    1972.0   \n",
       "2                VA                  Y        100.0            VA    1987.0   \n",
       "3                DC                  Y        150.0            DC    1993.0   \n",
       "4                DC                  Y        100.0            DC    1993.0   \n",
       "...             ...                ...          ...           ...       ...   \n",
       "1244637                            NaN        100.0           NaN       NaN   \n",
       "1244638                            NaN        200.0           NaN       NaN   \n",
       "1244639                            NaN        100.0           NaN       NaN   \n",
       "1244640                            NaN        100.0            DC    1965.0   \n",
       "1244641                            NaN        100.0           NaN       NaN   \n",
       "\n",
       "        VEH_MAKE DAY_OF_THE_WEEK  \n",
       "0           CHRY          Monday  \n",
       "1           HOND          Monday  \n",
       "2           MAZD        Thursday  \n",
       "3           TOYO         Tuesday  \n",
       "4           TOYO         Tuesday  \n",
       "...          ...             ...  \n",
       "1244637      RAM          Sunday  \n",
       "1244638     HOND          Sunday  \n",
       "1244639     ACUR          Sunday  \n",
       "1244640     HOND          Sunday  \n",
       "1244641     NISS          Monday  \n",
       "\n",
       "[1244642 rows x 15 columns]"
      ]
     },
     "execution_count": 35,
     "metadata": {},
     "output_type": "execute_result"
    }
   ],
   "source": [
    "# Sandra's Code\n",
    "\n",
    "days = {0:'Monday', 1:'Tuesday', 2: 'Wednesday', 3:'Thursday', 4:'Friday', 5:'Saturday', 6:'Sunday'}\n",
    "clean_twozeroonenine_df['ISSUE_DATE']= pd.to_datetime(clean_twozeroonenine_df['ISSUE_DATE'])\n",
    "clean_twozeroonenine_df['DAY_OF_THE_WEEK'] = clean_twozeroonenine_df['ISSUE_DATE'].dt.day_name()\n",
    "clean_twozeroonenine_df"
   ]
  },
  {
   "cell_type": "markdown",
   "metadata": {},
   "source": [
    "* Create a table called Violations by Day of Week\n",
    "* Group by the day of the week, and how many violations were issued for each of those days\n",
    "* Rename the column 'OBJECTID' to 'Count'\n",
    "* Print that puppy out"
   ]
  },
  {
   "cell_type": "code",
   "execution_count": 36,
   "metadata": {},
   "outputs": [
    {
     "data": {
      "text/html": [
       "<div>\n",
       "<style scoped>\n",
       "    .dataframe tbody tr th:only-of-type {\n",
       "        vertical-align: middle;\n",
       "    }\n",
       "\n",
       "    .dataframe tbody tr th {\n",
       "        vertical-align: top;\n",
       "    }\n",
       "\n",
       "    .dataframe thead th {\n",
       "        text-align: right;\n",
       "    }\n",
       "</style>\n",
       "<table border=\"1\" class=\"dataframe\">\n",
       "  <thead>\n",
       "    <tr style=\"text-align: right;\">\n",
       "      <th></th>\n",
       "      <th>DAY_OF_THE_WEEK</th>\n",
       "      <th>Count</th>\n",
       "    </tr>\n",
       "  </thead>\n",
       "  <tbody>\n",
       "    <tr>\n",
       "      <th>0</th>\n",
       "      <td>Friday</td>\n",
       "      <td>172254</td>\n",
       "    </tr>\n",
       "    <tr>\n",
       "      <th>1</th>\n",
       "      <td>Monday</td>\n",
       "      <td>151199</td>\n",
       "    </tr>\n",
       "    <tr>\n",
       "      <th>2</th>\n",
       "      <td>Saturday</td>\n",
       "      <td>232162</td>\n",
       "    </tr>\n",
       "    <tr>\n",
       "      <th>3</th>\n",
       "      <td>Sunday</td>\n",
       "      <td>217423</td>\n",
       "    </tr>\n",
       "    <tr>\n",
       "      <th>4</th>\n",
       "      <td>Thursday</td>\n",
       "      <td>163064</td>\n",
       "    </tr>\n",
       "    <tr>\n",
       "      <th>5</th>\n",
       "      <td>Tuesday</td>\n",
       "      <td>151745</td>\n",
       "    </tr>\n",
       "    <tr>\n",
       "      <th>6</th>\n",
       "      <td>Wednesday</td>\n",
       "      <td>156795</td>\n",
       "    </tr>\n",
       "  </tbody>\n",
       "</table>\n",
       "</div>"
      ],
      "text/plain": [
       "  DAY_OF_THE_WEEK   Count\n",
       "0          Friday  172254\n",
       "1          Monday  151199\n",
       "2        Saturday  232162\n",
       "3          Sunday  217423\n",
       "4        Thursday  163064\n",
       "5         Tuesday  151745\n",
       "6       Wednesday  156795"
      ]
     },
     "execution_count": 36,
     "metadata": {},
     "output_type": "execute_result"
    }
   ],
   "source": [
    "# Sandra's Code\n",
    "\n",
    "violations_by_day_of_week = clean_twozeroonenine_df.groupby('DAY_OF_THE_WEEK').count()[['OBJECTID']]\n",
    "violations_by_day_of_week.reset_index(inplace=True)\n",
    "violations_by_day_of_week = violations_by_day_of_week.rename(columns = {'OBJECTID':'Count'})\n",
    "violations_by_day_of_week\n"
   ]
  },
  {
   "cell_type": "markdown",
   "metadata": {},
   "source": [
    "### Create a Bar Chart showing each day of the week and the amount of violations issued for each day"
   ]
  },
  {
   "cell_type": "code",
   "execution_count": 37,
   "metadata": {},
   "outputs": [
    {
     "data": {
      "text/plain": [
       "Text(0.5, 1.0, 'Violations Issued for 2019 by Weekday')"
      ]
     },
     "execution_count": 37,
     "metadata": {},
     "output_type": "execute_result"
    },
    {
     "data": {
      "image/png": "[encoded data removed]",
      "text/plain": [
       "<Figure size 1080x360 with 1 Axes>"
      ]
     },
     "metadata": {
      "needs_background": "light"
     },
     "output_type": "display_data"
    }
   ],
   "source": [
    "# Sandra's Code\n",
    "\n",
    "violations_by_day_of_week.plot(kind='bar', x='DAY_OF_THE_WEEK', y='Count', legend=False, color='green', edgecolor = 'black', figsize=(15,5), fontsize=11)\n",
    "plt.ylabel('Day of the Week', weight='bold', fontsize=14)\n",
    "plt.xlabel('Number of Violations Issued', weight='bold', fontsize=14)\n",
    "plt.grid(color='#95a5a6', linestyle='--', linewidth=2, axis='y', alpha=0.5)\n",
    "plt.title('Violations Issued for 2019 by Weekday', weight='bold', fontsize=16)"
   ]
  },
  {
   "cell_type": "markdown",
   "metadata": {},
   "source": [
    "# Violations issued by age group"
   ]
  },
  {
   "cell_type": "markdown",
   "metadata": {},
   "source": [
    "* Print the max and min from 'DOB YEAR' column to determine high and low age groups"
   ]
  },
  {
   "cell_type": "code",
   "execution_count": 38,
   "metadata": {},
   "outputs": [
    {
     "name": "stdout",
     "output_type": "stream",
     "text": [
      "8199.0\n",
      "1697.0\n"
     ]
    }
   ],
   "source": [
    "# Fraol and Sree's Code\n",
    "\n",
    "print(clean_twozeroonenine_df[\"DOB_YEAR\"].max())\n",
    "print(clean_twozeroonenine_df[\"DOB_YEAR\"].min())"
   ]
  },
  {
   "cell_type": "code",
   "execution_count": 39,
   "metadata": {},
   "outputs": [
    {
     "data": {
      "text/plain": [
       "1989.0    7864\n",
       "1991.0    7662\n",
       "1990.0    7615\n",
       "1988.0    7507\n",
       "1987.0    7374\n",
       "          ... \n",
       "1813.0       1\n",
       "1736.0       1\n",
       "2018.0       1\n",
       "8199.0       1\n",
       "8197.0       1\n",
       "Name: DOB_YEAR, Length: 106, dtype: int64"
      ]
     },
     "execution_count": 39,
     "metadata": {},
     "output_type": "execute_result"
    }
   ],
   "source": [
    "# Fraol and Sree's Code\n",
    "\n",
    "clean_twozeroonenine_df[\"DOB_YEAR\"].value_counts()"
   ]
  },
  {
   "cell_type": "markdown",
   "metadata": {},
   "source": [
    "* Create bins for the age groups (by decade)\n",
    "* Label the bins according to the decade's age\n",
    "* Create a series that shows the age group and count of how many people that received violations for each group"
   ]
  },
  {
   "cell_type": "code",
   "execution_count": 40,
   "metadata": {},
   "outputs": [
    {
     "name": "stderr",
     "output_type": "stream",
     "text": [
      "<ipython-input-40-4021521c6acd>:7: SettingWithCopyWarning: \n",
      "A value is trying to be set on a copy of a slice from a DataFrame.\n",
      "Try using .loc[row_indexer,col_indexer] = value instead\n",
      "\n",
      "See the caveats in the documentation: https://pandas.pydata.org/pandas-docs/stable/user_guide/indexing.html#returning-a-view-versus-a-copy\n",
      "  clean_twozeroonenine_df[\"AGE_GROUP\"] = pd.cut(clean_twozeroonenine_df[\"DOB_YEAR\"], bins, labels = group_labels)\n"
     ]
    },
    {
     "data": {
      "text/plain": [
       "30 to 40    71466\n",
       "40 to 50    52891\n",
       "20 to 30    47502\n",
       "50 to 60    42777\n",
       "60 to 70    28263\n",
       "Name: AGE_GROUP, dtype: int64"
      ]
     },
     "execution_count": 40,
     "metadata": {},
     "output_type": "execute_result"
    }
   ],
   "source": [
    "# Fraol and Sree's Code\n",
    "\n",
    "bins = [1903, 1919.999, 1929.999, 1939.999, 1949.999, 1959.99, 1969.999, 1979.99, 1989.999, 1999.999, 2009]\n",
    "\n",
    "group_labels = [\"over 100\", \"90 to 100\",\"80 to 90\", \"70 to 80\", \"60 to 70\",\"50 to 60\", \"40 to 50\", \"30 to 40\", \"20 to 30\", \"below 20\" ]\n",
    "\n",
    "clean_twozeroonenine_df[\"AGE_GROUP\"] = pd.cut(clean_twozeroonenine_df[\"DOB_YEAR\"], bins, labels = group_labels)\n",
    "\n",
    "\n",
    "age_df = clean_twozeroonenine_df['AGE_GROUP']\n",
    "age_grp = age_df.value_counts()\n",
    "age_grp.head()"
   ]
  },
  {
   "cell_type": "markdown",
   "metadata": {},
   "source": [
    "### Create a Bar Chart showing the member count of each age group"
   ]
  },
  {
   "cell_type": "code",
   "execution_count": 41,
   "metadata": {},
   "outputs": [
    {
     "data": {
      "image/png": "[encoded data removed]",
      "text/plain": [
       "<Figure size 1080x360 with 1 Axes>"
      ]
     },
     "metadata": {
      "needs_background": "light"
     },
     "output_type": "display_data"
    },
    {
     "data": {
      "text/plain": [
       "<Figure size 432x288 with 0 Axes>"
      ]
     },
     "metadata": {},
     "output_type": "display_data"
    }
   ],
   "source": [
    "# Fraol and Sree's Code\n",
    "\n",
    "# Create a bar chart based off of the group series from before\n",
    "age_grp_chart = age_grp.plot(kind=\"bar\", color='skyblue', edgecolor = 'black', figsize=(15,5), fontsize=11)\n",
    "\n",
    "# Set the xlabel and ylabel using class methods\n",
    "age_grp_chart.set_xlabel(\"Age Group\", labelpad=20, weight='bold', size=14,)\n",
    "age_grp_chart.set_ylabel(\"Number Violation per Age Group\", labelpad=20, weight='bold', size=14)\n",
    "plt.grid(color='#95a5a6', linestyle='--', linewidth=2, axis='y', alpha=0.5)\n",
    "plt.title('Violations Issued for 2019 by Age Group', weight='bold', fontsize=16)\n",
    "\n",
    "plt.show()\n",
    "plt.tight_layout()"
   ]
  },
  {
   "cell_type": "code",
   "execution_count": 42,
   "metadata": {},
   "outputs": [
    {
     "data": {
      "text/html": [
       "<div>\n",
       "<style scoped>\n",
       "    .dataframe tbody tr th:only-of-type {\n",
       "        vertical-align: middle;\n",
       "    }\n",
       "\n",
       "    .dataframe tbody tr th {\n",
       "        vertical-align: top;\n",
       "    }\n",
       "\n",
       "    .dataframe thead th {\n",
       "        text-align: right;\n",
       "    }\n",
       "</style>\n",
       "<table border=\"1\" class=\"dataframe\">\n",
       "  <thead>\n",
       "    <tr style=\"text-align: right;\">\n",
       "      <th></th>\n",
       "      <th>ISSUE_DATE</th>\n",
       "      <th>VIOLATION_PROCESS_DESC</th>\n",
       "      <th>DRV_LIC_STATE</th>\n",
       "      <th>FINE_AMOUNT</th>\n",
       "    </tr>\n",
       "  </thead>\n",
       "  <tbody>\n",
       "    <tr>\n",
       "      <th>0</th>\n",
       "      <td>2019-04-29 04:00:00+00:00</td>\n",
       "      <td>FOLLOW A VEHICLE TOO CLOSELY</td>\n",
       "      <td>DC</td>\n",
       "      <td>100.0</td>\n",
       "    </tr>\n",
       "    <tr>\n",
       "      <th>1</th>\n",
       "      <td>2019-04-01 04:00:00+00:00</td>\n",
       "      <td>FOLLOW A VEHICLE TOO CLOSELY</td>\n",
       "      <td>DC</td>\n",
       "      <td>75.0</td>\n",
       "    </tr>\n",
       "    <tr>\n",
       "      <th>2</th>\n",
       "      <td>2019-04-18 04:00:00+00:00</td>\n",
       "      <td>FAIL TO CONTROL VEHICLE SPEED TO AVOID COLLIDING</td>\n",
       "      <td>VA</td>\n",
       "      <td>100.0</td>\n",
       "    </tr>\n",
       "    <tr>\n",
       "      <th>3</th>\n",
       "      <td>2019-04-23 04:00:00+00:00</td>\n",
       "      <td>FAIL TO CONTROL VEHICLE SPEED TO AVOID COLLIDING</td>\n",
       "      <td>DC</td>\n",
       "      <td>150.0</td>\n",
       "    </tr>\n",
       "    <tr>\n",
       "      <th>4</th>\n",
       "      <td>2019-04-23 04:00:00+00:00</td>\n",
       "      <td>DEAD OR EXPIRED TAGS</td>\n",
       "      <td>DC</td>\n",
       "      <td>100.0</td>\n",
       "    </tr>\n",
       "    <tr>\n",
       "      <th>...</th>\n",
       "      <td>...</td>\n",
       "      <td>...</td>\n",
       "      <td>...</td>\n",
       "      <td>...</td>\n",
       "    </tr>\n",
       "    <tr>\n",
       "      <th>1244630</th>\n",
       "      <td>2019-09-28 04:00:00+00:00</td>\n",
       "      <td>SPEED 11-15 MPH OVER THE SPEED LIMIT</td>\n",
       "      <td>DC</td>\n",
       "      <td>100.0</td>\n",
       "    </tr>\n",
       "    <tr>\n",
       "      <th>1244632</th>\n",
       "      <td>2019-09-28 04:00:00+00:00</td>\n",
       "      <td>SPEED 16-20 MPH OVER THE SPEED LIMIT</td>\n",
       "      <td>DC</td>\n",
       "      <td>150.0</td>\n",
       "    </tr>\n",
       "    <tr>\n",
       "      <th>1244634</th>\n",
       "      <td>2019-09-28 04:00:00+00:00</td>\n",
       "      <td>SPEED 11-15 MPH OVER THE SPEED LIMIT</td>\n",
       "      <td>DC</td>\n",
       "      <td>100.0</td>\n",
       "    </tr>\n",
       "    <tr>\n",
       "      <th>1244635</th>\n",
       "      <td>2019-09-29 04:00:00+00:00</td>\n",
       "      <td>SPEED 11-15 MPH OVER THE SPEED LIMIT</td>\n",
       "      <td>DC</td>\n",
       "      <td>100.0</td>\n",
       "    </tr>\n",
       "    <tr>\n",
       "      <th>1244640</th>\n",
       "      <td>2019-09-29 04:00:00+00:00</td>\n",
       "      <td>SPEED 11-15 MPH OVER THE SPEED LIMIT</td>\n",
       "      <td>DC</td>\n",
       "      <td>100.0</td>\n",
       "    </tr>\n",
       "  </tbody>\n",
       "</table>\n",
       "<p>250026 rows × 4 columns</p>\n",
       "</div>"
      ],
      "text/plain": [
       "                       ISSUE_DATE  \\\n",
       "0       2019-04-29 04:00:00+00:00   \n",
       "1       2019-04-01 04:00:00+00:00   \n",
       "2       2019-04-18 04:00:00+00:00   \n",
       "3       2019-04-23 04:00:00+00:00   \n",
       "4       2019-04-23 04:00:00+00:00   \n",
       "...                           ...   \n",
       "1244630 2019-09-28 04:00:00+00:00   \n",
       "1244632 2019-09-28 04:00:00+00:00   \n",
       "1244634 2019-09-28 04:00:00+00:00   \n",
       "1244635 2019-09-29 04:00:00+00:00   \n",
       "1244640 2019-09-29 04:00:00+00:00   \n",
       "\n",
       "                                   VIOLATION_PROCESS_DESC DRV_LIC_STATE  \\\n",
       "0                            FOLLOW A VEHICLE TOO CLOSELY            DC   \n",
       "1                            FOLLOW A VEHICLE TOO CLOSELY            DC   \n",
       "2        FAIL TO CONTROL VEHICLE SPEED TO AVOID COLLIDING            VA   \n",
       "3        FAIL TO CONTROL VEHICLE SPEED TO AVOID COLLIDING            DC   \n",
       "4                                    DEAD OR EXPIRED TAGS            DC   \n",
       "...                                                   ...           ...   \n",
       "1244630              SPEED 11-15 MPH OVER THE SPEED LIMIT            DC   \n",
       "1244632              SPEED 16-20 MPH OVER THE SPEED LIMIT            DC   \n",
       "1244634              SPEED 11-15 MPH OVER THE SPEED LIMIT            DC   \n",
       "1244635              SPEED 11-15 MPH OVER THE SPEED LIMIT            DC   \n",
       "1244640              SPEED 11-15 MPH OVER THE SPEED LIMIT            DC   \n",
       "\n",
       "         FINE_AMOUNT  \n",
       "0              100.0  \n",
       "1               75.0  \n",
       "2              100.0  \n",
       "3              150.0  \n",
       "4              100.0  \n",
       "...              ...  \n",
       "1244630        100.0  \n",
       "1244632        150.0  \n",
       "1244634        100.0  \n",
       "1244635        100.0  \n",
       "1244640        100.0  \n",
       "\n",
       "[250026 rows x 4 columns]"
      ]
     },
     "execution_count": 42,
     "metadata": {},
     "output_type": "execute_result"
    }
   ],
   "source": [
    "temp_df = clean_twozeroonenine_df.loc[:,[\"ISSUE_DATE\",\"VIOLATION_PROCESS_DESC\",\"DRV_LIC_STATE\",\"FINE_AMOUNT\"]]\n",
    "temp_df = temp_df[temp_df['DRV_LIC_STATE'].isin([\"DC\",\"MD\",\"VA\"])==True]\n",
    "temp_df.dropna(subset=[\"DRV_LIC_STATE\"]) \n",
    "#temp_df"
   ]
  },
  {
   "cell_type": "code",
   "execution_count": 43,
   "metadata": {},
   "outputs": [],
   "source": [
    "#temp_df.columns"
   ]
  },
  {
   "cell_type": "code",
   "execution_count": 44,
   "metadata": {},
   "outputs": [],
   "source": [
    "x = temp_df.loc[temp_df['DRV_LIC_STATE'] == 'DC']\n",
    "y = x['VIOLATION_PROCESS_DESC'].value_counts()\n",
    "#y"
   ]
  },
  {
   "cell_type": "code",
   "execution_count": 45,
   "metadata": {},
   "outputs": [],
   "source": [
    "dc_top_5_violations = pd.DataFrame(y)\n",
    "dc_top_5_violations.reset_index(inplace=True)"
   ]
  },
  {
   "cell_type": "code",
   "execution_count": 46,
   "metadata": {},
   "outputs": [],
   "source": [
    "dc_violations = dc_top_5_violations.rename(columns= {'index':'Violation Description', 'VIOLATION_PROCESS_DESC': 'Violation Count'})\n"
   ]
  },
  {
   "cell_type": "code",
   "execution_count": 47,
   "metadata": {},
   "outputs": [
    {
     "data": {
      "text/html": [
       "<div>\n",
       "<style scoped>\n",
       "    .dataframe tbody tr th:only-of-type {\n",
       "        vertical-align: middle;\n",
       "    }\n",
       "\n",
       "    .dataframe tbody tr th {\n",
       "        vertical-align: top;\n",
       "    }\n",
       "\n",
       "    .dataframe thead th {\n",
       "        text-align: right;\n",
       "    }\n",
       "</style>\n",
       "<table border=\"1\" class=\"dataframe\">\n",
       "  <thead>\n",
       "    <tr style=\"text-align: right;\">\n",
       "      <th></th>\n",
       "      <th>Violation Description</th>\n",
       "      <th>Violation Count</th>\n",
       "    </tr>\n",
       "  </thead>\n",
       "  <tbody>\n",
       "    <tr>\n",
       "      <th>0</th>\n",
       "      <td>SPEED 11-15 MPH OVER THE SPEED LIMIT</td>\n",
       "      <td>133421</td>\n",
       "    </tr>\n",
       "    <tr>\n",
       "      <th>1</th>\n",
       "      <td>SPEED 16-20 MPH OVER THE SPEED LIMIT</td>\n",
       "      <td>20826</td>\n",
       "    </tr>\n",
       "    <tr>\n",
       "      <th>2</th>\n",
       "      <td>PASSING STOP SIGN WITHOUT COMING TO A FULL STOP</td>\n",
       "      <td>14811</td>\n",
       "    </tr>\n",
       "    <tr>\n",
       "      <th>3</th>\n",
       "      <td>FAIL TO STOP PER REGULATIONS FACING RED SIGNAL</td>\n",
       "      <td>10107</td>\n",
       "    </tr>\n",
       "    <tr>\n",
       "      <th>4</th>\n",
       "      <td>TURN RIGHT ON RED WITHOUT COMPLETE STOP</td>\n",
       "      <td>4726</td>\n",
       "    </tr>\n",
       "    <tr>\n",
       "      <th>...</th>\n",
       "      <td>...</td>\n",
       "      <td>...</td>\n",
       "    </tr>\n",
       "    <tr>\n",
       "      <th>213</th>\n",
       "      <td>EXPIRED MEDICAL CERTIFICATE</td>\n",
       "      <td>1</td>\n",
       "    </tr>\n",
       "    <tr>\n",
       "      <th>214</th>\n",
       "      <td>OBSTRUCTED, REAR, FRONT OR SIDE VISION IN VEHICLE</td>\n",
       "      <td>1</td>\n",
       "    </tr>\n",
       "    <tr>\n",
       "      <th>215</th>\n",
       "      <td>CARRY PASSENGER OR FAIL TO RIDE ON SEAT</td>\n",
       "      <td>1</td>\n",
       "    </tr>\n",
       "    <tr>\n",
       "      <th>216</th>\n",
       "      <td>FAILURE TO YEILD ROW  TO TRANSIT BUS</td>\n",
       "      <td>1</td>\n",
       "    </tr>\n",
       "    <tr>\n",
       "      <th>217</th>\n",
       "      <td>FAIL TO OBEY TRAFFIC CONTROL DEVICE COMM VEHICLE</td>\n",
       "      <td>1</td>\n",
       "    </tr>\n",
       "  </tbody>\n",
       "</table>\n",
       "<p>218 rows × 2 columns</p>\n",
       "</div>"
      ],
      "text/plain": [
       "                                 Violation Description  Violation Count\n",
       "0                 SPEED 11-15 MPH OVER THE SPEED LIMIT           133421\n",
       "1                 SPEED 16-20 MPH OVER THE SPEED LIMIT            20826\n",
       "2      PASSING STOP SIGN WITHOUT COMING TO A FULL STOP            14811\n",
       "3       FAIL TO STOP PER REGULATIONS FACING RED SIGNAL            10107\n",
       "4              TURN RIGHT ON RED WITHOUT COMPLETE STOP             4726\n",
       "..                                                 ...              ...\n",
       "213                        EXPIRED MEDICAL CERTIFICATE                1\n",
       "214  OBSTRUCTED, REAR, FRONT OR SIDE VISION IN VEHICLE                1\n",
       "215            CARRY PASSENGER OR FAIL TO RIDE ON SEAT                1\n",
       "216               FAILURE TO YEILD ROW  TO TRANSIT BUS                1\n",
       "217   FAIL TO OBEY TRAFFIC CONTROL DEVICE COMM VEHICLE                1\n",
       "\n",
       "[218 rows x 2 columns]"
      ]
     },
     "execution_count": 47,
     "metadata": {},
     "output_type": "execute_result"
    }
   ],
   "source": [
    "dc_violations"
   ]
  },
  {
   "cell_type": "code",
   "execution_count": 48,
   "metadata": {},
   "outputs": [
    {
     "data": {
      "text/plain": [
       "Text(0.5, 1.0, 'Top 5 Violations Issued to DC (2019)')"
      ]
     },
     "execution_count": 48,
     "metadata": {},
     "output_type": "execute_result"
    },
    {
     "data": {
      "image/png": "[encoded data removed]",
      "text/plain": [
       "<Figure size 720x360 with 1 Axes>"
      ]
     },
     "metadata": {
      "needs_background": "light"
     },
     "output_type": "display_data"
    }
   ],
   "source": [
    "dc_violations.head(5).plot(kind='barh', x='Violation Description', y='Violation Count', legend=False, color='firebrick', edgecolor = 'black', figsize=(10,5), fontsize=11)\n",
    "plt.ylabel('Violation Description', fontsize=12)\n",
    "plt.xlabel('Violation Count', fontsize=12)\n",
    "plt.grid(color='#95a5a6', linestyle='--', linewidth=2, axis='x', alpha=0.5)\n",
    "plt.title('Top 5 Violations Issued to DC (2019)', fontsize=14)\n"
   ]
  },
  {
   "cell_type": "code",
   "execution_count": 49,
   "metadata": {},
   "outputs": [
    {
     "data": {
      "text/plain": [
       "SPEED 11-15 MPH OVER THE SPEED LIMIT               2354\n",
       "PASSING STOP SIGN WITHOUT COMING TO A FULL STOP    2027\n",
       "DISOBEY TRAFFIC CONTROL DEVICE                     1905\n",
       "FAIL TO DISPLAY PROOF OF VEHICLE INSURANCE         1745\n",
       "SPEED 16-20 MPH OVER THE SPEED LIMIT               1721\n",
       "                                                   ... \n",
       "FAIL TO OBEY CIVILIAN TRAFFIC OFFICER                 1\n",
       "SMOKE SCREEN                                          1\n",
       "NOT LICENSED FOR TYPE OF VEHICLE BEING OPERATED       1\n",
       "LEAVING A MOTOR RUNNING UNATTENDED                    1\n",
       "WORK ZONE VIOLATION - FINE DOUBLES                    1\n",
       "Name: VIOLATION_PROCESS_DESC, Length: 212, dtype: int64"
      ]
     },
     "execution_count": 49,
     "metadata": {},
     "output_type": "execute_result"
    }
   ],
   "source": [
    "a = temp_df.loc[temp_df['DRV_LIC_STATE'] == 'MD']\n",
    "b = a['VIOLATION_PROCESS_DESC'].value_counts()\n",
    "b"
   ]
  },
  {
   "cell_type": "code",
   "execution_count": 50,
   "metadata": {},
   "outputs": [],
   "source": [
    "md_top_5_violations = pd.DataFrame(b)\n",
    "md_top_5_violations.reset_index(inplace=True)"
   ]
  },
  {
   "cell_type": "code",
   "execution_count": 51,
   "metadata": {},
   "outputs": [
    {
     "data": {
      "text/html": [
       "<div>\n",
       "<style scoped>\n",
       "    .dataframe tbody tr th:only-of-type {\n",
       "        vertical-align: middle;\n",
       "    }\n",
       "\n",
       "    .dataframe tbody tr th {\n",
       "        vertical-align: top;\n",
       "    }\n",
       "\n",
       "    .dataframe thead th {\n",
       "        text-align: right;\n",
       "    }\n",
       "</style>\n",
       "<table border=\"1\" class=\"dataframe\">\n",
       "  <thead>\n",
       "    <tr style=\"text-align: right;\">\n",
       "      <th></th>\n",
       "      <th>Violation Description</th>\n",
       "      <th>Violation Count</th>\n",
       "    </tr>\n",
       "  </thead>\n",
       "  <tbody>\n",
       "    <tr>\n",
       "      <th>0</th>\n",
       "      <td>SPEED 11-15 MPH OVER THE SPEED LIMIT</td>\n",
       "      <td>2354</td>\n",
       "    </tr>\n",
       "    <tr>\n",
       "      <th>1</th>\n",
       "      <td>PASSING STOP SIGN WITHOUT COMING TO A FULL STOP</td>\n",
       "      <td>2027</td>\n",
       "    </tr>\n",
       "    <tr>\n",
       "      <th>2</th>\n",
       "      <td>DISOBEY TRAFFIC CONTROL DEVICE</td>\n",
       "      <td>1905</td>\n",
       "    </tr>\n",
       "    <tr>\n",
       "      <th>3</th>\n",
       "      <td>FAIL TO DISPLAY PROOF OF VEHICLE INSURANCE</td>\n",
       "      <td>1745</td>\n",
       "    </tr>\n",
       "    <tr>\n",
       "      <th>4</th>\n",
       "      <td>SPEED 16-20 MPH OVER THE SPEED LIMIT</td>\n",
       "      <td>1721</td>\n",
       "    </tr>\n",
       "    <tr>\n",
       "      <th>...</th>\n",
       "      <td>...</td>\n",
       "      <td>...</td>\n",
       "    </tr>\n",
       "    <tr>\n",
       "      <th>207</th>\n",
       "      <td>FAIL TO OBEY CIVILIAN TRAFFIC OFFICER</td>\n",
       "      <td>1</td>\n",
       "    </tr>\n",
       "    <tr>\n",
       "      <th>208</th>\n",
       "      <td>SMOKE SCREEN</td>\n",
       "      <td>1</td>\n",
       "    </tr>\n",
       "    <tr>\n",
       "      <th>209</th>\n",
       "      <td>NOT LICENSED FOR TYPE OF VEHICLE BEING OPERATED</td>\n",
       "      <td>1</td>\n",
       "    </tr>\n",
       "    <tr>\n",
       "      <th>210</th>\n",
       "      <td>LEAVING A MOTOR RUNNING UNATTENDED</td>\n",
       "      <td>1</td>\n",
       "    </tr>\n",
       "    <tr>\n",
       "      <th>211</th>\n",
       "      <td>WORK ZONE VIOLATION - FINE DOUBLES</td>\n",
       "      <td>1</td>\n",
       "    </tr>\n",
       "  </tbody>\n",
       "</table>\n",
       "<p>212 rows × 2 columns</p>\n",
       "</div>"
      ],
      "text/plain": [
       "                               Violation Description  Violation Count\n",
       "0               SPEED 11-15 MPH OVER THE SPEED LIMIT             2354\n",
       "1    PASSING STOP SIGN WITHOUT COMING TO A FULL STOP             2027\n",
       "2                     DISOBEY TRAFFIC CONTROL DEVICE             1905\n",
       "3         FAIL TO DISPLAY PROOF OF VEHICLE INSURANCE             1745\n",
       "4               SPEED 16-20 MPH OVER THE SPEED LIMIT             1721\n",
       "..                                               ...              ...\n",
       "207            FAIL TO OBEY CIVILIAN TRAFFIC OFFICER                1\n",
       "208                                     SMOKE SCREEN                1\n",
       "209  NOT LICENSED FOR TYPE OF VEHICLE BEING OPERATED                1\n",
       "210               LEAVING A MOTOR RUNNING UNATTENDED                1\n",
       "211               WORK ZONE VIOLATION - FINE DOUBLES                1\n",
       "\n",
       "[212 rows x 2 columns]"
      ]
     },
     "execution_count": 51,
     "metadata": {},
     "output_type": "execute_result"
    }
   ],
   "source": [
    "md_violations = md_top_5_violations.rename(columns= {'index':'Violation Description', 'VIOLATION_PROCESS_DESC': 'Violation Count'})\n",
    "md_violations"
   ]
  },
  {
   "cell_type": "code",
   "execution_count": 52,
   "metadata": {},
   "outputs": [
    {
     "data": {
      "text/plain": [
       "Text(0.5, 1.0, 'Top 5 Violations Issued to Maryland (2019)')"
      ]
     },
     "execution_count": 52,
     "metadata": {},
     "output_type": "execute_result"
    },
    {
     "data": {
      "image/png": "[encoded data removed]",
      "text/plain": [
       "<Figure size 720x360 with 1 Axes>"
      ]
     },
     "metadata": {
      "needs_background": "light"
     },
     "output_type": "display_data"
    }
   ],
   "source": [
    "md_violations.head(5).plot(kind='barh', x='Violation Description', y='Violation Count', legend=False, color='darkgoldenrod', edgecolor = 'black', figsize=(10,5), fontsize=11)\n",
    "plt.ylabel('Violation Description', fontsize=12)\n",
    "plt.xlabel('Violation Count', fontsize=12)\n",
    "plt.grid(color='#95a5a6', linestyle='--', linewidth=2, axis='x', alpha=0.5)\n",
    "plt.title('Top 5 Violations Issued to Maryland (2019)', fontsize=14)"
   ]
  },
  {
   "cell_type": "code",
   "execution_count": 53,
   "metadata": {},
   "outputs": [],
   "source": [
    "c = temp_df.loc[temp_df['DRV_LIC_STATE'] == 'VA']\n",
    "d = c['VIOLATION_PROCESS_DESC'].value_counts()\n",
    "#d"
   ]
  },
  {
   "cell_type": "code",
   "execution_count": 54,
   "metadata": {},
   "outputs": [],
   "source": [
    "va_top_5_violations = pd.DataFrame(d)\n",
    "va_top_5_violations.reset_index(inplace=True)"
   ]
  },
  {
   "cell_type": "code",
   "execution_count": 55,
   "metadata": {},
   "outputs": [
    {
     "data": {
      "text/html": [
       "<div>\n",
       "<style scoped>\n",
       "    .dataframe tbody tr th:only-of-type {\n",
       "        vertical-align: middle;\n",
       "    }\n",
       "\n",
       "    .dataframe tbody tr th {\n",
       "        vertical-align: top;\n",
       "    }\n",
       "\n",
       "    .dataframe thead th {\n",
       "        text-align: right;\n",
       "    }\n",
       "</style>\n",
       "<table border=\"1\" class=\"dataframe\">\n",
       "  <thead>\n",
       "    <tr style=\"text-align: right;\">\n",
       "      <th></th>\n",
       "      <th>Violation Description</th>\n",
       "      <th>Violation Count</th>\n",
       "    </tr>\n",
       "  </thead>\n",
       "  <tbody>\n",
       "    <tr>\n",
       "      <th>0</th>\n",
       "      <td>FAIL TO STOP PER REGULATIONS FACING RED SIGNAL</td>\n",
       "      <td>786</td>\n",
       "    </tr>\n",
       "    <tr>\n",
       "      <th>1</th>\n",
       "      <td>SPEED 11-15 MPH OVER THE SPEED LIMIT</td>\n",
       "      <td>762</td>\n",
       "    </tr>\n",
       "    <tr>\n",
       "      <th>2</th>\n",
       "      <td>PASSING STOP SIGN WITHOUT COMING TO A FULL STOP</td>\n",
       "      <td>736</td>\n",
       "    </tr>\n",
       "    <tr>\n",
       "      <th>3</th>\n",
       "      <td>FAIL TO DISPLAY PROOF OF VEHICLE INSURANCE</td>\n",
       "      <td>605</td>\n",
       "    </tr>\n",
       "    <tr>\n",
       "      <th>4</th>\n",
       "      <td>SPEED 16-20 MPH OVER THE SPEED LIMIT</td>\n",
       "      <td>560</td>\n",
       "    </tr>\n",
       "    <tr>\n",
       "      <th>...</th>\n",
       "      <td>...</td>\n",
       "      <td>...</td>\n",
       "    </tr>\n",
       "    <tr>\n",
       "      <th>174</th>\n",
       "      <td>OPERATING WITHOUT  WINDSHIELD WIPERS</td>\n",
       "      <td>1</td>\n",
       "    </tr>\n",
       "    <tr>\n",
       "      <th>175</th>\n",
       "      <td>FAIL TO YIELD WHEN EMERGING FROM AN ALLEY</td>\n",
       "      <td>1</td>\n",
       "    </tr>\n",
       "    <tr>\n",
       "      <th>176</th>\n",
       "      <td>NOT LICENSED FOR TYPE OF VEHICLE BEING OPERATED</td>\n",
       "      <td>1</td>\n",
       "    </tr>\n",
       "    <tr>\n",
       "      <th>177</th>\n",
       "      <td>UNLICENSED DC OPERATOR</td>\n",
       "      <td>1</td>\n",
       "    </tr>\n",
       "    <tr>\n",
       "      <th>178</th>\n",
       "      <td>NON-ENGLISH SPEAKING DRIVER - CMV - OOS</td>\n",
       "      <td>1</td>\n",
       "    </tr>\n",
       "  </tbody>\n",
       "</table>\n",
       "<p>179 rows × 2 columns</p>\n",
       "</div>"
      ],
      "text/plain": [
       "                               Violation Description  Violation Count\n",
       "0     FAIL TO STOP PER REGULATIONS FACING RED SIGNAL              786\n",
       "1               SPEED 11-15 MPH OVER THE SPEED LIMIT              762\n",
       "2    PASSING STOP SIGN WITHOUT COMING TO A FULL STOP              736\n",
       "3         FAIL TO DISPLAY PROOF OF VEHICLE INSURANCE              605\n",
       "4               SPEED 16-20 MPH OVER THE SPEED LIMIT              560\n",
       "..                                               ...              ...\n",
       "174             OPERATING WITHOUT  WINDSHIELD WIPERS                1\n",
       "175        FAIL TO YIELD WHEN EMERGING FROM AN ALLEY                1\n",
       "176  NOT LICENSED FOR TYPE OF VEHICLE BEING OPERATED                1\n",
       "177                           UNLICENSED DC OPERATOR                1\n",
       "178          NON-ENGLISH SPEAKING DRIVER - CMV - OOS                1\n",
       "\n",
       "[179 rows x 2 columns]"
      ]
     },
     "execution_count": 55,
     "metadata": {},
     "output_type": "execute_result"
    }
   ],
   "source": [
    "va_violations = va_top_5_violations.rename(columns= {'index':'Violation Description', 'VIOLATION_PROCESS_DESC': 'Violation Count'})\n",
    "va_violations\n"
   ]
  },
  {
   "cell_type": "code",
   "execution_count": 56,
   "metadata": {},
   "outputs": [
    {
     "data": {
      "text/plain": [
       "Text(0.5, 1.0, 'Top 5 Violations Issued to Virgina (2019)')"
      ]
     },
     "execution_count": 56,
     "metadata": {},
     "output_type": "execute_result"
    },
    {
     "data": {
      "image/png": "[encoded data removed]",
      "text/plain": [
       "<Figure size 720x360 with 1 Axes>"
      ]
     },
     "metadata": {
      "needs_background": "light"
     },
     "output_type": "display_data"
    }
   ],
   "source": [
    "va_violations.head(5).plot(kind='barh', x='Violation Description', y='Violation Count', legend=False, color='midnightblue', edgecolor = 'black', figsize=(10,5), fontsize=11)\n",
    "plt.ylabel('Violation Description', fontsize=12)\n",
    "plt.xlabel('Violation Count', fontsize=12)\n",
    "plt.grid(color='#95a5a6', linestyle='--', linewidth=2, axis='x', alpha=0.5)\n",
    "plt.title('Top 5 Violations Issued to Virgina (2019)', fontsize=14)"
   ]
  }
 ],
 "metadata": {
  "kernelspec": {
   "display_name": "Python 3",
   "language": "python",
   "name": "python3"
  },
  "language_info": {
   "codemirror_mode": {
    "name": "ipython",
    "version": 3
   },
   "file_extension": ".py",
   "mimetype": "text/x-python",
   "name": "python",
   "nbconvert_exporter": "python",
   "pygments_lexer": "ipython3",
   "version": "3.8.3"
  }
 },
 "nbformat": 4,
 "nbformat_minor": 4
}
